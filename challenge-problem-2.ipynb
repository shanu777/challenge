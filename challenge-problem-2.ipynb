{
 "cells": [
  {
   "cell_type": "code",
   "execution_count": 1,
   "metadata": {},
   "outputs": [],
   "source": [
    "import pandas as pd\n",
    "import numpy as np\n",
    "import matplotlib.pyplot as plt\n",
    "import datetime\n",
    "import warnings\n",
    "warnings.filterwarnings('ignore')\n",
    "import seaborn as sns"
   ]
  },
  {
   "cell_type": "code",
   "execution_count": 2,
   "metadata": {},
   "outputs": [],
   "source": [
    "df=pd.read_csv('Expander_data.csv')"
   ]
  },
  {
   "cell_type": "code",
   "execution_count": 3,
   "metadata": {},
   "outputs": [
    {
     "data": {
      "text/plain": [
       "(296450, 9)"
      ]
     },
     "execution_count": 3,
     "metadata": {},
     "output_type": "execute_result"
    }
   ],
   "source": [
    "df.shape"
   ]
  },
  {
   "cell_type": "code",
   "execution_count": 4,
   "metadata": {},
   "outputs": [
    {
     "data": {
      "text/html": [
       "<div>\n",
       "<style scoped>\n",
       "    .dataframe tbody tr th:only-of-type {\n",
       "        vertical-align: middle;\n",
       "    }\n",
       "\n",
       "    .dataframe tbody tr th {\n",
       "        vertical-align: top;\n",
       "    }\n",
       "\n",
       "    .dataframe thead th {\n",
       "        text-align: right;\n",
       "    }\n",
       "</style>\n",
       "<table border=\"1\" class=\"dataframe\">\n",
       "  <thead>\n",
       "    <tr style=\"text-align: right;\">\n",
       "      <th></th>\n",
       "      <th>Timestamp</th>\n",
       "      <th>Suction Pressure (psig)</th>\n",
       "      <th>Suction Temperature (F)</th>\n",
       "      <th>Total Flow (gpm)</th>\n",
       "      <th>Speed (rpm)</th>\n",
       "      <th>By-pass Valve Position (%)</th>\n",
       "      <th>Discharge Pressure (psig)</th>\n",
       "      <th>Discharge Temperature (F)</th>\n",
       "      <th>Run Status</th>\n",
       "    </tr>\n",
       "  </thead>\n",
       "  <tbody>\n",
       "    <tr>\n",
       "      <th>0</th>\n",
       "      <td>1/4/2020 21:20</td>\n",
       "      <td>596.100853</td>\n",
       "      <td>-229.436683</td>\n",
       "      <td>7925.800487</td>\n",
       "      <td>2999.411045</td>\n",
       "      <td>6.0</td>\n",
       "      <td>226.044931</td>\n",
       "      <td>-227.614448</td>\n",
       "      <td>NaN</td>\n",
       "    </tr>\n",
       "    <tr>\n",
       "      <th>1</th>\n",
       "      <td>1/4/2020 21:20</td>\n",
       "      <td>596.838217</td>\n",
       "      <td>-230.453708</td>\n",
       "      <td>8085.917724</td>\n",
       "      <td>2989.706617</td>\n",
       "      <td>6.0</td>\n",
       "      <td>217.150974</td>\n",
       "      <td>-228.668636</td>\n",
       "      <td>NaN</td>\n",
       "    </tr>\n",
       "    <tr>\n",
       "      <th>2</th>\n",
       "      <td>1/4/2020 21:20</td>\n",
       "      <td>596.468895</td>\n",
       "      <td>-229.545356</td>\n",
       "      <td>7902.175243</td>\n",
       "      <td>3006.331679</td>\n",
       "      <td>6.0</td>\n",
       "      <td>226.054086</td>\n",
       "      <td>-227.755324</td>\n",
       "      <td>NaN</td>\n",
       "    </tr>\n",
       "    <tr>\n",
       "      <th>3</th>\n",
       "      <td>1/4/2020 21:20</td>\n",
       "      <td>603.568271</td>\n",
       "      <td>-230.309438</td>\n",
       "      <td>7991.808959</td>\n",
       "      <td>3010.487486</td>\n",
       "      <td>6.0</td>\n",
       "      <td>226.016182</td>\n",
       "      <td>-228.489113</td>\n",
       "      <td>NaN</td>\n",
       "    </tr>\n",
       "    <tr>\n",
       "      <th>4</th>\n",
       "      <td>1/4/2020 21:21</td>\n",
       "      <td>595.407372</td>\n",
       "      <td>-229.767969</td>\n",
       "      <td>7871.560747</td>\n",
       "      <td>2986.665518</td>\n",
       "      <td>6.0</td>\n",
       "      <td>227.769383</td>\n",
       "      <td>-227.971795</td>\n",
       "      <td>NaN</td>\n",
       "    </tr>\n",
       "  </tbody>\n",
       "</table>\n",
       "</div>"
      ],
      "text/plain": [
       "        Timestamp  Suction Pressure (psig)  Suction Temperature (F)  \\\n",
       "0  1/4/2020 21:20               596.100853              -229.436683   \n",
       "1  1/4/2020 21:20               596.838217              -230.453708   \n",
       "2  1/4/2020 21:20               596.468895              -229.545356   \n",
       "3  1/4/2020 21:20               603.568271              -230.309438   \n",
       "4  1/4/2020 21:21               595.407372              -229.767969   \n",
       "\n",
       "   Total Flow (gpm)  Speed (rpm)  By-pass Valve Position (%)  \\\n",
       "0       7925.800487  2999.411045                         6.0   \n",
       "1       8085.917724  2989.706617                         6.0   \n",
       "2       7902.175243  3006.331679                         6.0   \n",
       "3       7991.808959  3010.487486                         6.0   \n",
       "4       7871.560747  2986.665518                         6.0   \n",
       "\n",
       "   Discharge Pressure (psig)  Discharge Temperature (F)  Run Status  \n",
       "0                 226.044931                -227.614448         NaN  \n",
       "1                 217.150974                -228.668636         NaN  \n",
       "2                 226.054086                -227.755324         NaN  \n",
       "3                 226.016182                -228.489113         NaN  \n",
       "4                 227.769383                -227.971795         NaN  "
      ]
     },
     "execution_count": 4,
     "metadata": {},
     "output_type": "execute_result"
    }
   ],
   "source": [
    "df.head()"
   ]
  },
  {
   "cell_type": "code",
   "execution_count": 5,
   "metadata": {},
   "outputs": [
    {
     "data": {
      "text/plain": [
       "Timestamp                          0\n",
       "Suction Pressure (psig)            0\n",
       "Suction Temperature (F)            0\n",
       "Total Flow (gpm)                   0\n",
       "Speed (rpm)                        0\n",
       "By-pass Valve Position (%)         0\n",
       "Discharge Pressure (psig)          0\n",
       "Discharge Temperature (F)          0\n",
       "Run Status                    296450\n",
       "dtype: int64"
      ]
     },
     "execution_count": 5,
     "metadata": {},
     "output_type": "execute_result"
    }
   ],
   "source": [
    "df.isnull().sum()"
   ]
  },
  {
   "cell_type": "code",
   "execution_count": 6,
   "metadata": {},
   "outputs": [],
   "source": [
    "#dropping 'Run Status' as it has not information.\n",
    "df.drop('Run Status',axis=1,inplace=True)"
   ]
  },
  {
   "cell_type": "code",
   "execution_count": 7,
   "metadata": {},
   "outputs": [
    {
     "data": {
      "text/html": [
       "<div>\n",
       "<style scoped>\n",
       "    .dataframe tbody tr th:only-of-type {\n",
       "        vertical-align: middle;\n",
       "    }\n",
       "\n",
       "    .dataframe tbody tr th {\n",
       "        vertical-align: top;\n",
       "    }\n",
       "\n",
       "    .dataframe thead th {\n",
       "        text-align: right;\n",
       "    }\n",
       "</style>\n",
       "<table border=\"1\" class=\"dataframe\">\n",
       "  <thead>\n",
       "    <tr style=\"text-align: right;\">\n",
       "      <th></th>\n",
       "      <th>Suction Pressure (psig)</th>\n",
       "      <th>Suction Temperature (F)</th>\n",
       "      <th>Total Flow (gpm)</th>\n",
       "      <th>Speed (rpm)</th>\n",
       "      <th>By-pass Valve Position (%)</th>\n",
       "      <th>Discharge Pressure (psig)</th>\n",
       "      <th>Discharge Temperature (F)</th>\n",
       "    </tr>\n",
       "  </thead>\n",
       "  <tbody>\n",
       "    <tr>\n",
       "      <th>Suction Pressure (psig)</th>\n",
       "      <td>1.000000</td>\n",
       "      <td>0.862881</td>\n",
       "      <td>-0.873558</td>\n",
       "      <td>-0.371829</td>\n",
       "      <td>0.089420</td>\n",
       "      <td>0.905435</td>\n",
       "      <td>0.862876</td>\n",
       "    </tr>\n",
       "    <tr>\n",
       "      <th>Suction Temperature (F)</th>\n",
       "      <td>0.862881</td>\n",
       "      <td>1.000000</td>\n",
       "      <td>-0.938631</td>\n",
       "      <td>-0.500437</td>\n",
       "      <td>0.349575</td>\n",
       "      <td>0.960071</td>\n",
       "      <td>0.999993</td>\n",
       "    </tr>\n",
       "    <tr>\n",
       "      <th>Total Flow (gpm)</th>\n",
       "      <td>-0.873558</td>\n",
       "      <td>-0.938631</td>\n",
       "      <td>1.000000</td>\n",
       "      <td>0.484320</td>\n",
       "      <td>-0.274621</td>\n",
       "      <td>-0.973483</td>\n",
       "      <td>-0.938624</td>\n",
       "    </tr>\n",
       "    <tr>\n",
       "      <th>Speed (rpm)</th>\n",
       "      <td>-0.371829</td>\n",
       "      <td>-0.500437</td>\n",
       "      <td>0.484320</td>\n",
       "      <td>1.000000</td>\n",
       "      <td>0.175187</td>\n",
       "      <td>-0.434955</td>\n",
       "      <td>-0.500435</td>\n",
       "    </tr>\n",
       "    <tr>\n",
       "      <th>By-pass Valve Position (%)</th>\n",
       "      <td>0.089420</td>\n",
       "      <td>0.349575</td>\n",
       "      <td>-0.274621</td>\n",
       "      <td>0.175187</td>\n",
       "      <td>1.000000</td>\n",
       "      <td>0.400566</td>\n",
       "      <td>0.349572</td>\n",
       "    </tr>\n",
       "    <tr>\n",
       "      <th>Discharge Pressure (psig)</th>\n",
       "      <td>0.905435</td>\n",
       "      <td>0.960071</td>\n",
       "      <td>-0.973483</td>\n",
       "      <td>-0.434955</td>\n",
       "      <td>0.400566</td>\n",
       "      <td>1.000000</td>\n",
       "      <td>0.960065</td>\n",
       "    </tr>\n",
       "    <tr>\n",
       "      <th>Discharge Temperature (F)</th>\n",
       "      <td>0.862876</td>\n",
       "      <td>0.999993</td>\n",
       "      <td>-0.938624</td>\n",
       "      <td>-0.500435</td>\n",
       "      <td>0.349572</td>\n",
       "      <td>0.960065</td>\n",
       "      <td>1.000000</td>\n",
       "    </tr>\n",
       "  </tbody>\n",
       "</table>\n",
       "</div>"
      ],
      "text/plain": [
       "                            Suction Pressure (psig)  Suction Temperature (F)  \\\n",
       "Suction Pressure (psig)                    1.000000                 0.862881   \n",
       "Suction Temperature (F)                    0.862881                 1.000000   \n",
       "Total Flow (gpm)                          -0.873558                -0.938631   \n",
       "Speed (rpm)                               -0.371829                -0.500437   \n",
       "By-pass Valve Position (%)                 0.089420                 0.349575   \n",
       "Discharge Pressure (psig)                  0.905435                 0.960071   \n",
       "Discharge Temperature (F)                  0.862876                 0.999993   \n",
       "\n",
       "                            Total Flow (gpm)  Speed (rpm)  \\\n",
       "Suction Pressure (psig)            -0.873558    -0.371829   \n",
       "Suction Temperature (F)            -0.938631    -0.500437   \n",
       "Total Flow (gpm)                    1.000000     0.484320   \n",
       "Speed (rpm)                         0.484320     1.000000   \n",
       "By-pass Valve Position (%)         -0.274621     0.175187   \n",
       "Discharge Pressure (psig)          -0.973483    -0.434955   \n",
       "Discharge Temperature (F)          -0.938624    -0.500435   \n",
       "\n",
       "                            By-pass Valve Position (%)  \\\n",
       "Suction Pressure (psig)                       0.089420   \n",
       "Suction Temperature (F)                       0.349575   \n",
       "Total Flow (gpm)                             -0.274621   \n",
       "Speed (rpm)                                   0.175187   \n",
       "By-pass Valve Position (%)                    1.000000   \n",
       "Discharge Pressure (psig)                     0.400566   \n",
       "Discharge Temperature (F)                     0.349572   \n",
       "\n",
       "                            Discharge Pressure (psig)  \\\n",
       "Suction Pressure (psig)                      0.905435   \n",
       "Suction Temperature (F)                      0.960071   \n",
       "Total Flow (gpm)                            -0.973483   \n",
       "Speed (rpm)                                 -0.434955   \n",
       "By-pass Valve Position (%)                   0.400566   \n",
       "Discharge Pressure (psig)                    1.000000   \n",
       "Discharge Temperature (F)                    0.960065   \n",
       "\n",
       "                            Discharge Temperature (F)  \n",
       "Suction Pressure (psig)                      0.862876  \n",
       "Suction Temperature (F)                      0.999993  \n",
       "Total Flow (gpm)                            -0.938624  \n",
       "Speed (rpm)                                 -0.500435  \n",
       "By-pass Valve Position (%)                   0.349572  \n",
       "Discharge Pressure (psig)                    0.960065  \n",
       "Discharge Temperature (F)                    1.000000  "
      ]
     },
     "execution_count": 7,
     "metadata": {},
     "output_type": "execute_result"
    }
   ],
   "source": [
    "df.corr()"
   ]
  },
  {
   "cell_type": "code",
   "execution_count": 8,
   "metadata": {},
   "outputs": [
    {
     "data": {
      "text/plain": [
       "Suction Pressure (psig)       0.356743\n",
       "Suction Temperature (F)       0.154379\n",
       "Total Flow (gpm)             -0.423595\n",
       "Speed (rpm)                  -0.080784\n",
       "By-pass Valve Position (%)    0.847692\n",
       "Discharge Pressure (psig)     0.334584\n",
       "Discharge Temperature (F)     0.154377\n",
       "dtype: float64"
      ]
     },
     "execution_count": 8,
     "metadata": {},
     "output_type": "execute_result"
    }
   ],
   "source": [
    "#data seems to be distributed normally.\n",
    "df.skew()"
   ]
  },
  {
   "cell_type": "code",
   "execution_count": 9,
   "metadata": {},
   "outputs": [
    {
     "data": {
      "text/plain": [
       "array([[<matplotlib.axes._subplots.AxesSubplot object at 0x00000226E5C197F0>,\n",
       "        <matplotlib.axes._subplots.AxesSubplot object at 0x00000226E0533B00>,\n",
       "        <matplotlib.axes._subplots.AxesSubplot object at 0x00000226E05750B8>],\n",
       "       [<matplotlib.axes._subplots.AxesSubplot object at 0x00000226E05A2668>,\n",
       "        <matplotlib.axes._subplots.AxesSubplot object at 0x00000226E05D4C18>,\n",
       "        <matplotlib.axes._subplots.AxesSubplot object at 0x00000226E0611208>],\n",
       "       [<matplotlib.axes._subplots.AxesSubplot object at 0x00000226E063F7B8>,\n",
       "        <matplotlib.axes._subplots.AxesSubplot object at 0x00000226E0673DA0>,\n",
       "        <matplotlib.axes._subplots.AxesSubplot object at 0x00000226E0673DD8>]],\n",
       "      dtype=object)"
      ]
     },
     "execution_count": 9,
     "metadata": {},
     "output_type": "execute_result"
    },
    {
     "data": {
      "image/png": "[encoded data removed]",
      "text/plain": [
       "<Figure size 432x288 with 9 Axes>"
      ]
     },
     "metadata": {
      "needs_background": "light"
     },
     "output_type": "display_data"
    }
   ],
   "source": [
    "df.hist(bins=50)"
   ]
  },
  {
   "cell_type": "code",
   "execution_count": 10,
   "metadata": {},
   "outputs": [
    {
     "data": {
      "text/html": [
       "<div>\n",
       "<style scoped>\n",
       "    .dataframe tbody tr th:only-of-type {\n",
       "        vertical-align: middle;\n",
       "    }\n",
       "\n",
       "    .dataframe tbody tr th {\n",
       "        vertical-align: top;\n",
       "    }\n",
       "\n",
       "    .dataframe thead th {\n",
       "        text-align: right;\n",
       "    }\n",
       "</style>\n",
       "<table border=\"1\" class=\"dataframe\">\n",
       "  <thead>\n",
       "    <tr style=\"text-align: right;\">\n",
       "      <th></th>\n",
       "      <th>Suction Pressure (psig)</th>\n",
       "      <th>Suction Temperature (F)</th>\n",
       "      <th>Total Flow (gpm)</th>\n",
       "      <th>Speed (rpm)</th>\n",
       "      <th>By-pass Valve Position (%)</th>\n",
       "      <th>Discharge Pressure (psig)</th>\n",
       "      <th>Discharge Temperature (F)</th>\n",
       "    </tr>\n",
       "  </thead>\n",
       "  <tbody>\n",
       "    <tr>\n",
       "      <th>count</th>\n",
       "      <td>296450.000000</td>\n",
       "      <td>296450.000000</td>\n",
       "      <td>296450.000000</td>\n",
       "      <td>296450.000000</td>\n",
       "      <td>296450.000000</td>\n",
       "      <td>296450.000000</td>\n",
       "      <td>296450.000000</td>\n",
       "    </tr>\n",
       "    <tr>\n",
       "      <th>mean</th>\n",
       "      <td>590.541350</td>\n",
       "      <td>-231.564934</td>\n",
       "      <td>8119.917777</td>\n",
       "      <td>2955.416695</td>\n",
       "      <td>2.005667</td>\n",
       "      <td>186.991087</td>\n",
       "      <td>-229.764934</td>\n",
       "    </tr>\n",
       "    <tr>\n",
       "      <th>std</th>\n",
       "      <td>23.216552</td>\n",
       "      <td>3.574107</td>\n",
       "      <td>398.049531</td>\n",
       "      <td>54.201467</td>\n",
       "      <td>2.488568</td>\n",
       "      <td>56.205183</td>\n",
       "      <td>3.574136</td>\n",
       "    </tr>\n",
       "    <tr>\n",
       "      <th>min</th>\n",
       "      <td>552.420048</td>\n",
       "      <td>-238.594971</td>\n",
       "      <td>7056.004500</td>\n",
       "      <td>2835.750571</td>\n",
       "      <td>-0.200000</td>\n",
       "      <td>69.983885</td>\n",
       "      <td>-236.816223</td>\n",
       "    </tr>\n",
       "    <tr>\n",
       "      <th>25%</th>\n",
       "      <td>572.757269</td>\n",
       "      <td>-234.171427</td>\n",
       "      <td>7916.322054</td>\n",
       "      <td>2906.336126</td>\n",
       "      <td>0.000000</td>\n",
       "      <td>143.468467</td>\n",
       "      <td>-232.371760</td>\n",
       "    </tr>\n",
       "    <tr>\n",
       "      <th>50%</th>\n",
       "      <td>586.491792</td>\n",
       "      <td>-230.922352</td>\n",
       "      <td>8144.161813</td>\n",
       "      <td>2961.788792</td>\n",
       "      <td>0.000000</td>\n",
       "      <td>183.270451</td>\n",
       "      <td>-229.122946</td>\n",
       "    </tr>\n",
       "    <tr>\n",
       "      <th>75%</th>\n",
       "      <td>605.986608</td>\n",
       "      <td>-229.585168</td>\n",
       "      <td>8388.610374</td>\n",
       "      <td>3000.863611</td>\n",
       "      <td>4.000000</td>\n",
       "      <td>223.580205</td>\n",
       "      <td>-227.785796</td>\n",
       "    </tr>\n",
       "    <tr>\n",
       "      <th>max</th>\n",
       "      <td>649.217417</td>\n",
       "      <td>-223.440125</td>\n",
       "      <td>8975.986378</td>\n",
       "      <td>3090.367995</td>\n",
       "      <td>8.026667</td>\n",
       "      <td>324.411576</td>\n",
       "      <td>-221.617102</td>\n",
       "    </tr>\n",
       "  </tbody>\n",
       "</table>\n",
       "</div>"
      ],
      "text/plain": [
       "       Suction Pressure (psig)  Suction Temperature (F)  Total Flow (gpm)  \\\n",
       "count            296450.000000            296450.000000     296450.000000   \n",
       "mean                590.541350              -231.564934       8119.917777   \n",
       "std                  23.216552                 3.574107        398.049531   \n",
       "min                 552.420048              -238.594971       7056.004500   \n",
       "25%                 572.757269              -234.171427       7916.322054   \n",
       "50%                 586.491792              -230.922352       8144.161813   \n",
       "75%                 605.986608              -229.585168       8388.610374   \n",
       "max                 649.217417              -223.440125       8975.986378   \n",
       "\n",
       "         Speed (rpm)  By-pass Valve Position (%)  Discharge Pressure (psig)  \\\n",
       "count  296450.000000               296450.000000              296450.000000   \n",
       "mean     2955.416695                    2.005667                 186.991087   \n",
       "std        54.201467                    2.488568                  56.205183   \n",
       "min      2835.750571                   -0.200000                  69.983885   \n",
       "25%      2906.336126                    0.000000                 143.468467   \n",
       "50%      2961.788792                    0.000000                 183.270451   \n",
       "75%      3000.863611                    4.000000                 223.580205   \n",
       "max      3090.367995                    8.026667                 324.411576   \n",
       "\n",
       "       Discharge Temperature (F)  \n",
       "count              296450.000000  \n",
       "mean                 -229.764934  \n",
       "std                     3.574136  \n",
       "min                  -236.816223  \n",
       "25%                  -232.371760  \n",
       "50%                  -229.122946  \n",
       "75%                  -227.785796  \n",
       "max                  -221.617102  "
      ]
     },
     "execution_count": 10,
     "metadata": {},
     "output_type": "execute_result"
    }
   ],
   "source": [
    "df.describe()"
   ]
  },
  {
   "cell_type": "code",
   "execution_count": 11,
   "metadata": {},
   "outputs": [
    {
     "data": {
      "text/plain": [
       "Timestamp                      object\n",
       "Suction Pressure (psig)       float64\n",
       "Suction Temperature (F)       float64\n",
       "Total Flow (gpm)              float64\n",
       "Speed (rpm)                   float64\n",
       "By-pass Valve Position (%)    float64\n",
       "Discharge Pressure (psig)     float64\n",
       "Discharge Temperature (F)     float64\n",
       "dtype: object"
      ]
     },
     "execution_count": 11,
     "metadata": {},
     "output_type": "execute_result"
    }
   ],
   "source": [
    "df.dtypes"
   ]
  },
  {
   "cell_type": "markdown",
   "metadata": {},
   "source": [
    "#converting timestamp column to datetime data and saperating year, month, day and date info and storing it in different columns."
   ]
  },
  {
   "cell_type": "code",
   "execution_count": 12,
   "metadata": {},
   "outputs": [],
   "source": [
    "df['Timestamp']=pd.to_datetime(df['Timestamp'])\n",
    "df['month'] = pd.DatetimeIndex(df['Timestamp']).month\n",
    "df['year']=pd.DatetimeIndex(df['Timestamp']).year\n",
    "df['day']=pd.DatetimeIndex(df['Timestamp']).day\n",
    "df['time']=pd.DatetimeIndex(df['Timestamp']).hour\n",
    "df.drop('Timestamp',axis=1,inplace=True)"
   ]
  },
  {
   "cell_type": "code",
   "execution_count": 13,
   "metadata": {
    "scrolled": true
   },
   "outputs": [
    {
     "data": {
      "text/html": [
       "<div>\n",
       "<style scoped>\n",
       "    .dataframe tbody tr th:only-of-type {\n",
       "        vertical-align: middle;\n",
       "    }\n",
       "\n",
       "    .dataframe tbody tr th {\n",
       "        vertical-align: top;\n",
       "    }\n",
       "\n",
       "    .dataframe thead th {\n",
       "        text-align: right;\n",
       "    }\n",
       "</style>\n",
       "<table border=\"1\" class=\"dataframe\">\n",
       "  <thead>\n",
       "    <tr style=\"text-align: right;\">\n",
       "      <th></th>\n",
       "      <th>Suction Pressure (psig)</th>\n",
       "      <th>Suction Temperature (F)</th>\n",
       "      <th>Total Flow (gpm)</th>\n",
       "      <th>Speed (rpm)</th>\n",
       "      <th>By-pass Valve Position (%)</th>\n",
       "      <th>Discharge Pressure (psig)</th>\n",
       "      <th>Discharge Temperature (F)</th>\n",
       "      <th>month</th>\n",
       "      <th>year</th>\n",
       "      <th>day</th>\n",
       "      <th>time</th>\n",
       "    </tr>\n",
       "  </thead>\n",
       "  <tbody>\n",
       "    <tr>\n",
       "      <th>0</th>\n",
       "      <td>596.100853</td>\n",
       "      <td>-229.436683</td>\n",
       "      <td>7925.800487</td>\n",
       "      <td>2999.411045</td>\n",
       "      <td>6.0</td>\n",
       "      <td>226.044931</td>\n",
       "      <td>-227.614448</td>\n",
       "      <td>1</td>\n",
       "      <td>2020</td>\n",
       "      <td>4</td>\n",
       "      <td>21</td>\n",
       "    </tr>\n",
       "    <tr>\n",
       "      <th>1</th>\n",
       "      <td>596.838217</td>\n",
       "      <td>-230.453708</td>\n",
       "      <td>8085.917724</td>\n",
       "      <td>2989.706617</td>\n",
       "      <td>6.0</td>\n",
       "      <td>217.150974</td>\n",
       "      <td>-228.668636</td>\n",
       "      <td>1</td>\n",
       "      <td>2020</td>\n",
       "      <td>4</td>\n",
       "      <td>21</td>\n",
       "    </tr>\n",
       "    <tr>\n",
       "      <th>2</th>\n",
       "      <td>596.468895</td>\n",
       "      <td>-229.545356</td>\n",
       "      <td>7902.175243</td>\n",
       "      <td>3006.331679</td>\n",
       "      <td>6.0</td>\n",
       "      <td>226.054086</td>\n",
       "      <td>-227.755324</td>\n",
       "      <td>1</td>\n",
       "      <td>2020</td>\n",
       "      <td>4</td>\n",
       "      <td>21</td>\n",
       "    </tr>\n",
       "    <tr>\n",
       "      <th>3</th>\n",
       "      <td>603.568271</td>\n",
       "      <td>-230.309438</td>\n",
       "      <td>7991.808959</td>\n",
       "      <td>3010.487486</td>\n",
       "      <td>6.0</td>\n",
       "      <td>226.016182</td>\n",
       "      <td>-228.489113</td>\n",
       "      <td>1</td>\n",
       "      <td>2020</td>\n",
       "      <td>4</td>\n",
       "      <td>21</td>\n",
       "    </tr>\n",
       "    <tr>\n",
       "      <th>4</th>\n",
       "      <td>595.407372</td>\n",
       "      <td>-229.767969</td>\n",
       "      <td>7871.560747</td>\n",
       "      <td>2986.665518</td>\n",
       "      <td>6.0</td>\n",
       "      <td>227.769383</td>\n",
       "      <td>-227.971795</td>\n",
       "      <td>1</td>\n",
       "      <td>2020</td>\n",
       "      <td>4</td>\n",
       "      <td>21</td>\n",
       "    </tr>\n",
       "  </tbody>\n",
       "</table>\n",
       "</div>"
      ],
      "text/plain": [
       "   Suction Pressure (psig)  Suction Temperature (F)  Total Flow (gpm)  \\\n",
       "0               596.100853              -229.436683       7925.800487   \n",
       "1               596.838217              -230.453708       8085.917724   \n",
       "2               596.468895              -229.545356       7902.175243   \n",
       "3               603.568271              -230.309438       7991.808959   \n",
       "4               595.407372              -229.767969       7871.560747   \n",
       "\n",
       "   Speed (rpm)  By-pass Valve Position (%)  Discharge Pressure (psig)  \\\n",
       "0  2999.411045                         6.0                 226.044931   \n",
       "1  2989.706617                         6.0                 217.150974   \n",
       "2  3006.331679                         6.0                 226.054086   \n",
       "3  3010.487486                         6.0                 226.016182   \n",
       "4  2986.665518                         6.0                 227.769383   \n",
       "\n",
       "   Discharge Temperature (F)  month  year  day  time  \n",
       "0                -227.614448      1  2020    4    21  \n",
       "1                -228.668636      1  2020    4    21  \n",
       "2                -227.755324      1  2020    4    21  \n",
       "3                -228.489113      1  2020    4    21  \n",
       "4                -227.971795      1  2020    4    21  "
      ]
     },
     "execution_count": 13,
     "metadata": {},
     "output_type": "execute_result"
    }
   ],
   "source": [
    "df.head()"
   ]
  },
  {
   "cell_type": "code",
   "execution_count": 14,
   "metadata": {},
   "outputs": [
    {
     "data": {
      "text/html": [
       "<div>\n",
       "<style scoped>\n",
       "    .dataframe tbody tr th:only-of-type {\n",
       "        vertical-align: middle;\n",
       "    }\n",
       "\n",
       "    .dataframe tbody tr th {\n",
       "        vertical-align: top;\n",
       "    }\n",
       "\n",
       "    .dataframe thead th {\n",
       "        text-align: right;\n",
       "    }\n",
       "</style>\n",
       "<table border=\"1\" class=\"dataframe\">\n",
       "  <thead>\n",
       "    <tr style=\"text-align: right;\">\n",
       "      <th></th>\n",
       "      <th>Suction Pressure (psig)</th>\n",
       "      <th>Suction Temperature (F)</th>\n",
       "      <th>Total Flow (gpm)</th>\n",
       "      <th>Speed (rpm)</th>\n",
       "      <th>By-pass Valve Position (%)</th>\n",
       "      <th>Discharge Pressure (psig)</th>\n",
       "      <th>Discharge Temperature (F)</th>\n",
       "      <th>month</th>\n",
       "      <th>year</th>\n",
       "      <th>day</th>\n",
       "      <th>time</th>\n",
       "    </tr>\n",
       "  </thead>\n",
       "  <tbody>\n",
       "    <tr>\n",
       "      <th>count</th>\n",
       "      <td>296450.000000</td>\n",
       "      <td>296450.000000</td>\n",
       "      <td>296450.000000</td>\n",
       "      <td>296450.000000</td>\n",
       "      <td>296450.000000</td>\n",
       "      <td>296450.000000</td>\n",
       "      <td>296450.000000</td>\n",
       "      <td>296450.000000</td>\n",
       "      <td>296450.0</td>\n",
       "      <td>296450.000000</td>\n",
       "      <td>296450.000000</td>\n",
       "    </tr>\n",
       "    <tr>\n",
       "      <th>mean</th>\n",
       "      <td>590.541350</td>\n",
       "      <td>-231.564934</td>\n",
       "      <td>8119.917777</td>\n",
       "      <td>2955.416695</td>\n",
       "      <td>2.005667</td>\n",
       "      <td>186.991087</td>\n",
       "      <td>-229.764934</td>\n",
       "      <td>2.117996</td>\n",
       "      <td>2020.0</td>\n",
       "      <td>13.062203</td>\n",
       "      <td>11.459673</td>\n",
       "    </tr>\n",
       "    <tr>\n",
       "      <th>std</th>\n",
       "      <td>23.216552</td>\n",
       "      <td>3.574107</td>\n",
       "      <td>398.049531</td>\n",
       "      <td>54.201467</td>\n",
       "      <td>2.488568</td>\n",
       "      <td>56.205183</td>\n",
       "      <td>3.574136</td>\n",
       "      <td>1.340313</td>\n",
       "      <td>0.0</td>\n",
       "      <td>8.481266</td>\n",
       "      <td>6.940272</td>\n",
       "    </tr>\n",
       "    <tr>\n",
       "      <th>min</th>\n",
       "      <td>552.420048</td>\n",
       "      <td>-238.594971</td>\n",
       "      <td>7056.004500</td>\n",
       "      <td>2835.750571</td>\n",
       "      <td>-0.200000</td>\n",
       "      <td>69.983885</td>\n",
       "      <td>-236.816223</td>\n",
       "      <td>1.000000</td>\n",
       "      <td>2020.0</td>\n",
       "      <td>1.000000</td>\n",
       "      <td>0.000000</td>\n",
       "    </tr>\n",
       "    <tr>\n",
       "      <th>25%</th>\n",
       "      <td>572.757269</td>\n",
       "      <td>-234.171427</td>\n",
       "      <td>7916.322054</td>\n",
       "      <td>2906.336126</td>\n",
       "      <td>0.000000</td>\n",
       "      <td>143.468467</td>\n",
       "      <td>-232.371760</td>\n",
       "      <td>1.000000</td>\n",
       "      <td>2020.0</td>\n",
       "      <td>6.000000</td>\n",
       "      <td>5.000000</td>\n",
       "    </tr>\n",
       "    <tr>\n",
       "      <th>50%</th>\n",
       "      <td>586.491792</td>\n",
       "      <td>-230.922352</td>\n",
       "      <td>8144.161813</td>\n",
       "      <td>2961.788792</td>\n",
       "      <td>0.000000</td>\n",
       "      <td>183.270451</td>\n",
       "      <td>-229.122946</td>\n",
       "      <td>1.000000</td>\n",
       "      <td>2020.0</td>\n",
       "      <td>12.000000</td>\n",
       "      <td>11.000000</td>\n",
       "    </tr>\n",
       "    <tr>\n",
       "      <th>75%</th>\n",
       "      <td>605.986608</td>\n",
       "      <td>-229.585168</td>\n",
       "      <td>8388.610374</td>\n",
       "      <td>3000.863611</td>\n",
       "      <td>4.000000</td>\n",
       "      <td>223.580205</td>\n",
       "      <td>-227.785796</td>\n",
       "      <td>4.000000</td>\n",
       "      <td>2020.0</td>\n",
       "      <td>19.000000</td>\n",
       "      <td>17.000000</td>\n",
       "    </tr>\n",
       "    <tr>\n",
       "      <th>max</th>\n",
       "      <td>649.217417</td>\n",
       "      <td>-223.440125</td>\n",
       "      <td>8975.986378</td>\n",
       "      <td>3090.367995</td>\n",
       "      <td>8.026667</td>\n",
       "      <td>324.411576</td>\n",
       "      <td>-221.617102</td>\n",
       "      <td>4.000000</td>\n",
       "      <td>2020.0</td>\n",
       "      <td>31.000000</td>\n",
       "      <td>23.000000</td>\n",
       "    </tr>\n",
       "  </tbody>\n",
       "</table>\n",
       "</div>"
      ],
      "text/plain": [
       "       Suction Pressure (psig)  Suction Temperature (F)  Total Flow (gpm)  \\\n",
       "count            296450.000000            296450.000000     296450.000000   \n",
       "mean                590.541350              -231.564934       8119.917777   \n",
       "std                  23.216552                 3.574107        398.049531   \n",
       "min                 552.420048              -238.594971       7056.004500   \n",
       "25%                 572.757269              -234.171427       7916.322054   \n",
       "50%                 586.491792              -230.922352       8144.161813   \n",
       "75%                 605.986608              -229.585168       8388.610374   \n",
       "max                 649.217417              -223.440125       8975.986378   \n",
       "\n",
       "         Speed (rpm)  By-pass Valve Position (%)  Discharge Pressure (psig)  \\\n",
       "count  296450.000000               296450.000000              296450.000000   \n",
       "mean     2955.416695                    2.005667                 186.991087   \n",
       "std        54.201467                    2.488568                  56.205183   \n",
       "min      2835.750571                   -0.200000                  69.983885   \n",
       "25%      2906.336126                    0.000000                 143.468467   \n",
       "50%      2961.788792                    0.000000                 183.270451   \n",
       "75%      3000.863611                    4.000000                 223.580205   \n",
       "max      3090.367995                    8.026667                 324.411576   \n",
       "\n",
       "       Discharge Temperature (F)          month      year            day  \\\n",
       "count              296450.000000  296450.000000  296450.0  296450.000000   \n",
       "mean                 -229.764934       2.117996    2020.0      13.062203   \n",
       "std                     3.574136       1.340313       0.0       8.481266   \n",
       "min                  -236.816223       1.000000    2020.0       1.000000   \n",
       "25%                  -232.371760       1.000000    2020.0       6.000000   \n",
       "50%                  -229.122946       1.000000    2020.0      12.000000   \n",
       "75%                  -227.785796       4.000000    2020.0      19.000000   \n",
       "max                  -221.617102       4.000000    2020.0      31.000000   \n",
       "\n",
       "                time  \n",
       "count  296450.000000  \n",
       "mean       11.459673  \n",
       "std         6.940272  \n",
       "min         0.000000  \n",
       "25%         5.000000  \n",
       "50%        11.000000  \n",
       "75%        17.000000  \n",
       "max        23.000000  "
      ]
     },
     "execution_count": 14,
     "metadata": {},
     "output_type": "execute_result"
    }
   ],
   "source": [
    "df.describe()"
   ]
  },
  {
   "cell_type": "markdown",
   "metadata": {},
   "source": [
    "#since there is no variation in the year variable I have decided to drop it."
   ]
  },
  {
   "cell_type": "code",
   "execution_count": 15,
   "metadata": {},
   "outputs": [],
   "source": [
    "df.drop('year',axis=1,inplace=True)"
   ]
  },
  {
   "cell_type": "code",
   "execution_count": 16,
   "metadata": {},
   "outputs": [
    {
     "data": {
      "text/plain": [
       "Suction Pressure (psig)          539.008276\n",
       "Suction Temperature (F)           12.774243\n",
       "Total Flow (gpm)              158443.429510\n",
       "Speed (rpm)                     2937.798978\n",
       "By-pass Valve Position (%)         6.192970\n",
       "Discharge Pressure (psig)       3159.022594\n",
       "Discharge Temperature (F)         12.774452\n",
       "month                              1.796439\n",
       "day                               71.931877\n",
       "time                              48.167376\n",
       "dtype: float64"
      ]
     },
     "execution_count": 16,
     "metadata": {},
     "output_type": "execute_result"
    }
   ],
   "source": [
    "#let's check for the variance in other columns\n",
    "df.var()"
   ]
  },
  {
   "cell_type": "markdown",
   "metadata": {},
   "source": [
    "#labelencoding the discrete data"
   ]
  },
  {
   "cell_type": "code",
   "execution_count": 17,
   "metadata": {},
   "outputs": [],
   "source": [
    "from sklearn.preprocessing import LabelEncoder\n",
    "le=LabelEncoder()\n",
    "encode=['month','day','time']\n",
    "for m in encode:\n",
    "    df[m]=le.fit_transform(df[m].values.reshape(-1,1))"
   ]
  },
  {
   "cell_type": "code",
   "execution_count": 18,
   "metadata": {},
   "outputs": [],
   "source": [
    "corr=df.corr()"
   ]
  },
  {
   "cell_type": "code",
   "execution_count": 19,
   "metadata": {},
   "outputs": [
    {
     "data": {
      "text/html": [
       "<div>\n",
       "<style scoped>\n",
       "    .dataframe tbody tr th:only-of-type {\n",
       "        vertical-align: middle;\n",
       "    }\n",
       "\n",
       "    .dataframe tbody tr th {\n",
       "        vertical-align: top;\n",
       "    }\n",
       "\n",
       "    .dataframe thead th {\n",
       "        text-align: right;\n",
       "    }\n",
       "</style>\n",
       "<table border=\"1\" class=\"dataframe\">\n",
       "  <thead>\n",
       "    <tr style=\"text-align: right;\">\n",
       "      <th></th>\n",
       "      <th>Suction Pressure (psig)</th>\n",
       "      <th>Suction Temperature (F)</th>\n",
       "      <th>Total Flow (gpm)</th>\n",
       "      <th>Speed (rpm)</th>\n",
       "      <th>By-pass Valve Position (%)</th>\n",
       "      <th>Discharge Pressure (psig)</th>\n",
       "      <th>Discharge Temperature (F)</th>\n",
       "      <th>month</th>\n",
       "      <th>day</th>\n",
       "      <th>time</th>\n",
       "    </tr>\n",
       "  </thead>\n",
       "  <tbody>\n",
       "    <tr>\n",
       "      <th>Suction Pressure (psig)</th>\n",
       "      <td>1.000000</td>\n",
       "      <td>0.862881</td>\n",
       "      <td>-0.873558</td>\n",
       "      <td>-0.371829</td>\n",
       "      <td>0.089420</td>\n",
       "      <td>0.905435</td>\n",
       "      <td>0.862876</td>\n",
       "      <td>-0.035956</td>\n",
       "      <td>0.349089</td>\n",
       "      <td>0.002066</td>\n",
       "    </tr>\n",
       "    <tr>\n",
       "      <th>Suction Temperature (F)</th>\n",
       "      <td>0.862881</td>\n",
       "      <td>1.000000</td>\n",
       "      <td>-0.938631</td>\n",
       "      <td>-0.500437</td>\n",
       "      <td>0.349575</td>\n",
       "      <td>0.960071</td>\n",
       "      <td>0.999993</td>\n",
       "      <td>-0.135734</td>\n",
       "      <td>0.409361</td>\n",
       "      <td>-0.003006</td>\n",
       "    </tr>\n",
       "    <tr>\n",
       "      <th>Total Flow (gpm)</th>\n",
       "      <td>-0.873558</td>\n",
       "      <td>-0.938631</td>\n",
       "      <td>1.000000</td>\n",
       "      <td>0.484320</td>\n",
       "      <td>-0.274621</td>\n",
       "      <td>-0.973483</td>\n",
       "      <td>-0.938624</td>\n",
       "      <td>0.197153</td>\n",
       "      <td>-0.414223</td>\n",
       "      <td>0.000870</td>\n",
       "    </tr>\n",
       "    <tr>\n",
       "      <th>Speed (rpm)</th>\n",
       "      <td>-0.371829</td>\n",
       "      <td>-0.500437</td>\n",
       "      <td>0.484320</td>\n",
       "      <td>1.000000</td>\n",
       "      <td>0.175187</td>\n",
       "      <td>-0.434955</td>\n",
       "      <td>-0.500435</td>\n",
       "      <td>0.628790</td>\n",
       "      <td>-0.644425</td>\n",
       "      <td>-0.012840</td>\n",
       "    </tr>\n",
       "    <tr>\n",
       "      <th>By-pass Valve Position (%)</th>\n",
       "      <td>0.089420</td>\n",
       "      <td>0.349575</td>\n",
       "      <td>-0.274621</td>\n",
       "      <td>0.175187</td>\n",
       "      <td>1.000000</td>\n",
       "      <td>0.400566</td>\n",
       "      <td>0.349572</td>\n",
       "      <td>0.166596</td>\n",
       "      <td>-0.094807</td>\n",
       "      <td>-0.009818</td>\n",
       "    </tr>\n",
       "    <tr>\n",
       "      <th>Discharge Pressure (psig)</th>\n",
       "      <td>0.905435</td>\n",
       "      <td>0.960071</td>\n",
       "      <td>-0.973483</td>\n",
       "      <td>-0.434955</td>\n",
       "      <td>0.400566</td>\n",
       "      <td>1.000000</td>\n",
       "      <td>0.960065</td>\n",
       "      <td>-0.115287</td>\n",
       "      <td>0.392623</td>\n",
       "      <td>-0.001126</td>\n",
       "    </tr>\n",
       "    <tr>\n",
       "      <th>Discharge Temperature (F)</th>\n",
       "      <td>0.862876</td>\n",
       "      <td>0.999993</td>\n",
       "      <td>-0.938624</td>\n",
       "      <td>-0.500435</td>\n",
       "      <td>0.349572</td>\n",
       "      <td>0.960065</td>\n",
       "      <td>1.000000</td>\n",
       "      <td>-0.135733</td>\n",
       "      <td>0.409363</td>\n",
       "      <td>-0.003006</td>\n",
       "    </tr>\n",
       "    <tr>\n",
       "      <th>month</th>\n",
       "      <td>-0.035956</td>\n",
       "      <td>-0.135734</td>\n",
       "      <td>0.197153</td>\n",
       "      <td>0.628790</td>\n",
       "      <td>0.166596</td>\n",
       "      <td>-0.115287</td>\n",
       "      <td>-0.135733</td>\n",
       "      <td>1.000000</td>\n",
       "      <td>-0.460410</td>\n",
       "      <td>-0.008971</td>\n",
       "    </tr>\n",
       "    <tr>\n",
       "      <th>day</th>\n",
       "      <td>0.349089</td>\n",
       "      <td>0.409361</td>\n",
       "      <td>-0.414223</td>\n",
       "      <td>-0.644425</td>\n",
       "      <td>-0.094807</td>\n",
       "      <td>0.392623</td>\n",
       "      <td>0.409363</td>\n",
       "      <td>-0.460410</td>\n",
       "      <td>1.000000</td>\n",
       "      <td>0.012441</td>\n",
       "    </tr>\n",
       "    <tr>\n",
       "      <th>time</th>\n",
       "      <td>0.002066</td>\n",
       "      <td>-0.003006</td>\n",
       "      <td>0.000870</td>\n",
       "      <td>-0.012840</td>\n",
       "      <td>-0.009818</td>\n",
       "      <td>-0.001126</td>\n",
       "      <td>-0.003006</td>\n",
       "      <td>-0.008971</td>\n",
       "      <td>0.012441</td>\n",
       "      <td>1.000000</td>\n",
       "    </tr>\n",
       "  </tbody>\n",
       "</table>\n",
       "</div>"
      ],
      "text/plain": [
       "                            Suction Pressure (psig)  Suction Temperature (F)  \\\n",
       "Suction Pressure (psig)                    1.000000                 0.862881   \n",
       "Suction Temperature (F)                    0.862881                 1.000000   \n",
       "Total Flow (gpm)                          -0.873558                -0.938631   \n",
       "Speed (rpm)                               -0.371829                -0.500437   \n",
       "By-pass Valve Position (%)                 0.089420                 0.349575   \n",
       "Discharge Pressure (psig)                  0.905435                 0.960071   \n",
       "Discharge Temperature (F)                  0.862876                 0.999993   \n",
       "month                                     -0.035956                -0.135734   \n",
       "day                                        0.349089                 0.409361   \n",
       "time                                       0.002066                -0.003006   \n",
       "\n",
       "                            Total Flow (gpm)  Speed (rpm)  \\\n",
       "Suction Pressure (psig)            -0.873558    -0.371829   \n",
       "Suction Temperature (F)            -0.938631    -0.500437   \n",
       "Total Flow (gpm)                    1.000000     0.484320   \n",
       "Speed (rpm)                         0.484320     1.000000   \n",
       "By-pass Valve Position (%)         -0.274621     0.175187   \n",
       "Discharge Pressure (psig)          -0.973483    -0.434955   \n",
       "Discharge Temperature (F)          -0.938624    -0.500435   \n",
       "month                               0.197153     0.628790   \n",
       "day                                -0.414223    -0.644425   \n",
       "time                                0.000870    -0.012840   \n",
       "\n",
       "                            By-pass Valve Position (%)  \\\n",
       "Suction Pressure (psig)                       0.089420   \n",
       "Suction Temperature (F)                       0.349575   \n",
       "Total Flow (gpm)                             -0.274621   \n",
       "Speed (rpm)                                   0.175187   \n",
       "By-pass Valve Position (%)                    1.000000   \n",
       "Discharge Pressure (psig)                     0.400566   \n",
       "Discharge Temperature (F)                     0.349572   \n",
       "month                                         0.166596   \n",
       "day                                          -0.094807   \n",
       "time                                         -0.009818   \n",
       "\n",
       "                            Discharge Pressure (psig)  \\\n",
       "Suction Pressure (psig)                      0.905435   \n",
       "Suction Temperature (F)                      0.960071   \n",
       "Total Flow (gpm)                            -0.973483   \n",
       "Speed (rpm)                                 -0.434955   \n",
       "By-pass Valve Position (%)                   0.400566   \n",
       "Discharge Pressure (psig)                    1.000000   \n",
       "Discharge Temperature (F)                    0.960065   \n",
       "month                                       -0.115287   \n",
       "day                                          0.392623   \n",
       "time                                        -0.001126   \n",
       "\n",
       "                            Discharge Temperature (F)     month       day  \\\n",
       "Suction Pressure (psig)                      0.862876 -0.035956  0.349089   \n",
       "Suction Temperature (F)                      0.999993 -0.135734  0.409361   \n",
       "Total Flow (gpm)                            -0.938624  0.197153 -0.414223   \n",
       "Speed (rpm)                                 -0.500435  0.628790 -0.644425   \n",
       "By-pass Valve Position (%)                   0.349572  0.166596 -0.094807   \n",
       "Discharge Pressure (psig)                    0.960065 -0.115287  0.392623   \n",
       "Discharge Temperature (F)                    1.000000 -0.135733  0.409363   \n",
       "month                                       -0.135733  1.000000 -0.460410   \n",
       "day                                          0.409363 -0.460410  1.000000   \n",
       "time                                        -0.003006 -0.008971  0.012441   \n",
       "\n",
       "                                time  \n",
       "Suction Pressure (psig)     0.002066  \n",
       "Suction Temperature (F)    -0.003006  \n",
       "Total Flow (gpm)            0.000870  \n",
       "Speed (rpm)                -0.012840  \n",
       "By-pass Valve Position (%) -0.009818  \n",
       "Discharge Pressure (psig)  -0.001126  \n",
       "Discharge Temperature (F)  -0.003006  \n",
       "month                      -0.008971  \n",
       "day                         0.012441  \n",
       "time                        1.000000  "
      ]
     },
     "execution_count": 19,
     "metadata": {},
     "output_type": "execute_result"
    }
   ],
   "source": [
    "corr"
   ]
  },
  {
   "cell_type": "code",
   "execution_count": 20,
   "metadata": {},
   "outputs": [
    {
     "data": {
      "text/plain": [
       "<matplotlib.axes._subplots.AxesSubplot at 0x226de450400>"
      ]
     },
     "execution_count": 20,
     "metadata": {},
     "output_type": "execute_result"
    },
    {
     "data": {
      "image/png": "[encoded data removed]",
      "text/plain": [
       "<Figure size 432x288 with 2 Axes>"
      ]
     },
     "metadata": {
      "needs_background": "light"
     },
     "output_type": "display_data"
    }
   ],
   "source": [
    "sns.heatmap(corr,annot=True)"
   ]
  },
  {
   "cell_type": "markdown",
   "metadata": {},
   "source": [
    "# Observations from correlation date above:\n",
    "# 1).All the attributes are strongly correlated to the test attribute.\n",
    "# 2).Time is not showing much correlation, so maybe we can drop it. \n"
   ]
  },
  {
   "cell_type": "markdown",
   "metadata": {},
   "source": []
  },
  {
   "cell_type": "markdown",
   "metadata": {},
   "source": []
  },
  {
   "cell_type": "markdown",
   "metadata": {},
   "source": [
    "# visualizing the trengs graphically"
   ]
  },
  {
   "cell_type": "code",
   "execution_count": 21,
   "metadata": {},
   "outputs": [],
   "source": [
    "col=['Suction Pressure (psig)', 'Suction Temperature (F)',\n",
    "       'Total Flow (gpm)', 'Speed (rpm)', 'By-pass Valve Position (%)',\n",
    "       'Discharge Temperature (F)', 'month',\n",
    "       'day', 'time']"
   ]
  },
  {
   "cell_type": "code",
   "execution_count": 22,
   "metadata": {},
   "outputs": [
    {
     "data": {
      "image/png": "[encoded data removed]",
      "text/plain": [
       "<Figure size 432x288 with 1 Axes>"
      ]
     },
     "metadata": {
      "needs_background": "light"
     },
     "output_type": "display_data"
    },
    {
     "data": {
      "image/png": "[encoded data removed]",
      "text/plain": [
       "<Figure size 432x288 with 1 Axes>"
      ]
     },
     "metadata": {
      "needs_background": "light"
     },
     "output_type": "display_data"
    },
    {
     "data": {
      "image/png": "[encoded data removed]",
      "text/plain": [
       "<Figure size 432x288 with 1 Axes>"
      ]
     },
     "metadata": {
      "needs_background": "light"
     },
     "output_type": "display_data"
    },
    {
     "data": {
      "image/png": "[encoded data removed]",
      "text/plain": [
       "<Figure size 432x288 with 1 Axes>"
      ]
     },
     "metadata": {
      "needs_background": "light"
     },
     "output_type": "display_data"
    },
    {
     "data": {
      "image/png": "[encoded data removed]",
      "text/plain": [
       "<Figure size 432x288 with 1 Axes>"
      ]
     },
     "metadata": {
      "needs_background": "light"
     },
     "output_type": "display_data"
    },
    {
     "data": {
      "image/png": "[encoded data removed]",
      "text/plain": [
       "<Figure size 432x288 with 1 Axes>"
      ]
     },
     "metadata": {
      "needs_background": "light"
     },
     "output_type": "display_data"
    },
    {
     "data": {
      "image/png": "[encoded data removed]",
      "text/plain": [
       "<Figure size 432x288 with 1 Axes>"
      ]
     },
     "metadata": {
      "needs_background": "light"
     },
     "output_type": "display_data"
    },
    {
     "data": {
      "image/png": "[encoded data removed]",
      "text/plain": [
       "<Figure size 432x288 with 1 Axes>"
      ]
     },
     "metadata": {
      "needs_background": "light"
     },
     "output_type": "display_data"
    },
    {
     "data": {
      "image/png": "[encoded data removed]",
      "text/plain": [
       "<Figure size 432x288 with 1 Axes>"
      ]
     },
     "metadata": {
      "needs_background": "light"
     },
     "output_type": "display_data"
    }
   ],
   "source": [
    "for m in col:\n",
    "    df.plot.scatter(m,'Discharge Pressure (psig)')"
   ]
  },
  {
   "cell_type": "code",
   "execution_count": 23,
   "metadata": {},
   "outputs": [],
   "source": [
    "#time vairable is not showing any positive or negative effect on the target variable so I will drop it.\n",
    "df.drop('time',axis=1,inplace=True)"
   ]
  },
  {
   "cell_type": "code",
   "execution_count": 24,
   "metadata": {},
   "outputs": [],
   "source": [
    "import sklearn\n",
    "from sklearn.model_selection import train_test_split\n",
    "from sklearn.model_selection import cross_val_score\n",
    "from sklearn.linear_model import LinearRegression\n",
    "from sklearn.ensemble import RandomForestRegressor\n",
    "from sklearn.ensemble import AdaBoostClassifier\n",
    "from sklearn.tree import DecisionTreeRegressor\n",
    "from sklearn.metrics import r2_score,mean_squared_error\n",
    "from sklearn.preprocessing import StandardScaler\n"
   ]
  },
  {
   "cell_type": "code",
   "execution_count": 25,
   "metadata": {},
   "outputs": [],
   "source": [
    "ss,lr,rfr,dtr=StandardScaler(),LinearRegression(),RandomForestRegressor(),DecisionTreeRegressor()\n"
   ]
  },
  {
   "cell_type": "code",
   "execution_count": 26,
   "metadata": {},
   "outputs": [],
   "source": [
    "x=df.drop('Discharge Pressure (psig)',axis=1)\n",
    "y=df.iloc[:,-4].values.reshape(-1,1)"
   ]
  },
  {
   "cell_type": "code",
   "execution_count": 27,
   "metadata": {},
   "outputs": [],
   "source": [
    "#applying standard scaler on all of the attributes other than the discrete data such as day, month.\n",
    "\n",
    "scale=['Suction Pressure (psig)', 'Suction Temperature (F)',\n",
    "       'Total Flow (gpm)', 'Speed (rpm)', 'By-pass Valve Position (%)',\n",
    "       'Discharge Temperature (F)']\n",
    "for m in scale:\n",
    "    x[m]=ss.fit_transform(x[m].values.reshape(-1,1))"
   ]
  },
  {
   "cell_type": "code",
   "execution_count": 28,
   "metadata": {},
   "outputs": [],
   "source": [
    "xtrain,xtest,ytrain,ytest=train_test_split(x,y)"
   ]
  },
  {
   "cell_type": "markdown",
   "metadata": {},
   "source": [
    "# Linear Regression"
   ]
  },
  {
   "cell_type": "code",
   "execution_count": 117,
   "metadata": {},
   "outputs": [
    {
     "data": {
      "text/plain": [
       "0.9984613217073802"
      ]
     },
     "execution_count": 117,
     "metadata": {},
     "output_type": "execute_result"
    }
   ],
   "source": [
    "lr.fit(xtrain,ytrain)\n",
    "lr.score(xtrain,ytrain)"
   ]
  },
  {
   "cell_type": "code",
   "execution_count": 118,
   "metadata": {},
   "outputs": [
    {
     "name": "stdout",
     "output_type": "stream",
     "text": [
      "r2 score is 0.9984436664343789\n",
      "mse is 4.898999301829854\n",
      "rmse is 2.2133683158999666\n",
      "cross validation score is 0.9784117045143743\n",
      "standard deviation of cross validation score is 0.026033595118515666\n"
     ]
    }
   ],
   "source": [
    "pred_lr=lr.predict(xtest)\n",
    "r2=r2_score(pred_lr,ytest)\n",
    "mse=mean_squared_error(pred_lr,ytest)\n",
    "print('r2 score is',r2)\n",
    "print('mse is', mse)\n",
    "print('rmse is',np.sqrt(mse))\n",
    "cv=cross_val_score(lr,x,y,cv=10,scoring='r2')\n",
    "print('cross validation score is',cv.mean())\n",
    "print('standard deviation of cross validation score is',cv.std())"
   ]
  },
  {
   "cell_type": "markdown",
   "metadata": {},
   "source": [
    "# Random Forest Regressor"
   ]
  },
  {
   "cell_type": "code",
   "execution_count": 39,
   "metadata": {},
   "outputs": [
    {
     "data": {
      "text/plain": [
       "RandomForestRegressor(bootstrap=True, ccp_alpha=0.0, criterion='mse',\n",
       "                      max_depth=None, max_features='auto', max_leaf_nodes=None,\n",
       "                      max_samples=None, min_impurity_decrease=0.0,\n",
       "                      min_impurity_split=None, min_samples_leaf=1,\n",
       "                      min_samples_split=2, min_weight_fraction_leaf=0.0,\n",
       "                      n_estimators=100, n_jobs=None, oob_score=False,\n",
       "                      random_state=None, verbose=0, warm_start=False)"
      ]
     },
     "execution_count": 39,
     "metadata": {},
     "output_type": "execute_result"
    }
   ],
   "source": [
    "rfr.fit(xtrain,ytrain)"
   ]
  },
  {
   "cell_type": "code",
   "execution_count": 40,
   "metadata": {},
   "outputs": [
    {
     "data": {
      "text/plain": [
       "0.9999210886875192"
      ]
     },
     "execution_count": 40,
     "metadata": {},
     "output_type": "execute_result"
    }
   ],
   "source": [
    "rfr.score(xtrain,ytrain)"
   ]
  },
  {
   "cell_type": "code",
   "execution_count": 41,
   "metadata": {},
   "outputs": [
    {
     "data": {
      "text/plain": [
       "0.9994403888947763"
      ]
     },
     "execution_count": 41,
     "metadata": {},
     "output_type": "execute_result"
    }
   ],
   "source": [
    "r2_score(rfr.predict(xtest),ytest)"
   ]
  },
  {
   "cell_type": "code",
   "execution_count": 42,
   "metadata": {},
   "outputs": [
    {
     "data": {
      "text/plain": [
       "0.8886316719797165"
      ]
     },
     "execution_count": 42,
     "metadata": {},
     "output_type": "execute_result"
    }
   ],
   "source": [
    "cross_val_score(rfr,x,y,cv=10,n_jobs=-1).mean()"
   ]
  },
  {
   "cell_type": "code",
   "execution_count": 43,
   "metadata": {},
   "outputs": [
    {
     "data": {
      "text/plain": [
       "0.14984464917748655"
      ]
     },
     "execution_count": 43,
     "metadata": {},
     "output_type": "execute_result"
    }
   ],
   "source": [
    "cross_val_score(rfr,x,y,cv=10,n_jobs=-1).std()"
   ]
  },
  {
   "cell_type": "code",
   "execution_count": 60,
   "metadata": {},
   "outputs": [],
   "source": [
    "pred_rfr=rfr.predict(xtest)"
   ]
  },
  {
   "cell_type": "code",
   "execution_count": 63,
   "metadata": {},
   "outputs": [
    {
     "name": "stdout",
     "output_type": "stream",
     "text": [
      "mse is 1.7631913878753547\n",
      "rmse is 1.3278521709419895\n"
     ]
    }
   ],
   "source": [
    "mse_rfr=mean_squared_error(pred_rfr,ytest)\n",
    "print('mse is',mse_rfr)\n",
    "print('rmse is',np.sqrt(mse_rfr))\n"
   ]
  },
  {
   "cell_type": "markdown",
   "metadata": {},
   "source": [
    "# Decision Tree Regressor"
   ]
  },
  {
   "cell_type": "code",
   "execution_count": 44,
   "metadata": {},
   "outputs": [
    {
     "data": {
      "text/plain": [
       "0.9999999999999768"
      ]
     },
     "execution_count": 44,
     "metadata": {},
     "output_type": "execute_result"
    }
   ],
   "source": [
    "dtr.fit(xtrain,ytrain)\n",
    "dtr.score(xtrain,ytrain)"
   ]
  },
  {
   "cell_type": "code",
   "execution_count": 92,
   "metadata": {},
   "outputs": [
    {
     "name": "stdout",
     "output_type": "stream",
     "text": [
      "mse is 3.467755732282073\n",
      "rmse is 1.8621911105689644\n"
     ]
    }
   ],
   "source": [
    "pred_dtr=dtr.predict(xtest)\n",
    "mse_dtr=mean_squared_error(pred_dtr,ytest)\n",
    "rmse_dtr=np.sqrt(mse)\n",
    "print('mse is',mse_dtr)\n",
    "print('rmse is',np.sqrt(mse_dtr))"
   ]
  },
  {
   "cell_type": "code",
   "execution_count": 45,
   "metadata": {},
   "outputs": [
    {
     "data": {
      "text/plain": [
       "0.9989001126676269"
      ]
     },
     "execution_count": 45,
     "metadata": {},
     "output_type": "execute_result"
    }
   ],
   "source": [
    "r2_score(dtr.predict(xtest),ytest)"
   ]
  },
  {
   "cell_type": "code",
   "execution_count": 46,
   "metadata": {},
   "outputs": [],
   "source": [
    "cvd=cross_val_score(dtr,x,y,cv=10,n_jobs=-1)"
   ]
  },
  {
   "cell_type": "code",
   "execution_count": 47,
   "metadata": {},
   "outputs": [
    {
     "data": {
      "text/plain": [
       "0.8374219697414949"
      ]
     },
     "execution_count": 47,
     "metadata": {},
     "output_type": "execute_result"
    }
   ],
   "source": [
    "cvd.mean()"
   ]
  },
  {
   "cell_type": "code",
   "execution_count": 48,
   "metadata": {},
   "outputs": [
    {
     "data": {
      "text/plain": [
       "0.2143350081896"
      ]
     },
     "execution_count": 48,
     "metadata": {},
     "output_type": "execute_result"
    }
   ],
   "source": [
    "cvd.std()"
   ]
  },
  {
   "cell_type": "markdown",
   "metadata": {},
   "source": [
    "# Artificial Neural Network"
   ]
  },
  {
   "cell_type": "code",
   "execution_count": 49,
   "metadata": {},
   "outputs": [
    {
     "name": "stderr",
     "output_type": "stream",
     "text": [
      "Using TensorFlow backend.\n"
     ]
    }
   ],
   "source": [
    "import keras\n",
    "from keras.models import Sequential\n",
    "from keras.layers import Dense"
   ]
  },
  {
   "cell_type": "code",
   "execution_count": 80,
   "metadata": {},
   "outputs": [],
   "source": [
    "classifier= Sequential()"
   ]
  },
  {
   "cell_type": "code",
   "execution_count": 81,
   "metadata": {},
   "outputs": [
    {
     "data": {
      "text/plain": [
       "(222337, 8)"
      ]
     },
     "execution_count": 81,
     "metadata": {},
     "output_type": "execute_result"
    }
   ],
   "source": [
    "xtrain.shape"
   ]
  },
  {
   "cell_type": "code",
   "execution_count": 82,
   "metadata": {},
   "outputs": [],
   "source": [
    "classifier.add(Dense(output_dim=20, init='uniform', activation='relu',input_dim=8))\n",
    "classifier.add(Dense(output_dim=25, init='uniform', activation='relu'))\n",
    "classifier.add(Dense(output_dim=30,init='uniform', activation='relu'))\n",
    "classifier.add(Dense(output_dim=25,init='uniform', activation='relu'))\n",
    "classifier.add(Dense(output_dim=30,init='uniform', activation='relu'))\n",
    "classifier.add(Dense(output_dim=25,init='uniform', activation='relu'))\n",
    "classifier.add(Dense(output_dim=30,init='uniform', activation='relu'))\n",
    "classifier.add(Dense(output_dim=25,init='uniform', activation='relu'))\n",
    "classifier.add(Dense(output_dim=25,init='uniform', activation='relu'))\n",
    "classifier.add(Dense(output_dim=30,init='uniform', activation='relu'))\n",
    "classifier.add(Dense(output_dim=25,init='uniform', activation='relu'))\n",
    "classifier.add(Dense(output_dim=15,init='uniform', activation='relu'))\n",
    "classifier.add(Dense(output_dim=25,init='uniform', activation='relu'))\n",
    "classifier.add(Dense(output_dim=30,init='uniform', activation='relu'))\n",
    "classifier.add(Dense(output_dim=25,init='uniform', activation='relu'))\n",
    "classifier.add(Dense(output_dim=1,init= 'uniform'))\n",
    "classifier.compile(optimizer = 'rmsprop', loss = 'mean_squared_error')"
   ]
  },
  {
   "cell_type": "code",
   "execution_count": 84,
   "metadata": {},
   "outputs": [
    {
     "name": "stdout",
     "output_type": "stream",
     "text": [
      "Epoch 1/600\n",
      "222337/222337 [==============================] - 2s 11us/step - loss: 48.0307\n",
      "Epoch 2/600\n",
      "222337/222337 [==============================] - 2s 11us/step - loss: 46.8069\n",
      "Epoch 3/600\n",
      "222337/222337 [==============================] - 2s 11us/step - loss: 45.1330\n",
      "Epoch 4/600\n",
      "222337/222337 [==============================] - 2s 11us/step - loss: 44.0779\n",
      "Epoch 5/600\n",
      "222337/222337 [==============================] - 2s 11us/step - loss: 43.2755\n",
      "Epoch 6/600\n",
      "222337/222337 [==============================] - 2s 11us/step - loss: 42.2625\n",
      "Epoch 7/600\n",
      "222337/222337 [==============================] - 2s 11us/step - loss: 42.0091\n",
      "Epoch 8/600\n",
      "222337/222337 [==============================] - 2s 11us/step - loss: 41.0750\n",
      "Epoch 9/600\n",
      "222337/222337 [==============================] - 3s 11us/step - loss: 40.5340\n",
      "Epoch 10/600\n",
      "222337/222337 [==============================] - 2s 11us/step - loss: 39.8409\n",
      "Epoch 11/600\n",
      "222337/222337 [==============================] - 2s 11us/step - loss: 39.5964\n",
      "Epoch 12/600\n",
      "222337/222337 [==============================] - 2s 11us/step - loss: 39.2578\n",
      "Epoch 13/600\n",
      "222337/222337 [==============================] - 2s 11us/step - loss: 38.6034\n",
      "Epoch 14/600\n",
      "222337/222337 [==============================] - 3s 11us/step - loss: 38.2351\n",
      "Epoch 15/600\n",
      "222337/222337 [==============================] - 2s 11us/step - loss: 37.5823\n",
      "Epoch 16/600\n",
      "222337/222337 [==============================] - 2s 11us/step - loss: 37.2189\n",
      "Epoch 17/600\n",
      "222337/222337 [==============================] - 2s 11us/step - loss: 35.6562\n",
      "Epoch 18/600\n",
      "222337/222337 [==============================] - 2s 11us/step - loss: 35.0748\n",
      "Epoch 19/600\n",
      "222337/222337 [==============================] - 2s 11us/step - loss: 33.9078\n",
      "Epoch 20/600\n",
      "222337/222337 [==============================] - 2s 11us/step - loss: 33.0306\n",
      "Epoch 21/600\n",
      "222337/222337 [==============================] - 2s 11us/step - loss: 32.3871\n",
      "Epoch 22/600\n",
      "222337/222337 [==============================] - 2s 11us/step - loss: 31.5024\n",
      "Epoch 23/600\n",
      "222337/222337 [==============================] - 2s 11us/step - loss: 30.5775\n",
      "Epoch 24/600\n",
      "222337/222337 [==============================] - 2s 11us/step - loss: 29.9558\n",
      "Epoch 25/600\n",
      "222337/222337 [==============================] - 2s 11us/step - loss: 29.0710\n",
      "Epoch 26/600\n",
      "222337/222337 [==============================] - 2s 11us/step - loss: 28.6109\n",
      "Epoch 27/600\n",
      "222337/222337 [==============================] - 2s 11us/step - loss: 28.0003\n",
      "Epoch 28/600\n",
      "222337/222337 [==============================] - 2s 11us/step - loss: 27.3321\n",
      "Epoch 29/600\n",
      "222337/222337 [==============================] - 2s 11us/step - loss: 26.7334\n",
      "Epoch 30/600\n",
      "222337/222337 [==============================] - 2s 11us/step - loss: 26.4014\n",
      "Epoch 31/600\n",
      "222337/222337 [==============================] - 2s 11us/step - loss: 25.6409\n",
      "Epoch 32/600\n",
      "222337/222337 [==============================] - 2s 11us/step - loss: 25.3221\n",
      "Epoch 33/600\n",
      "222337/222337 [==============================] - 2s 11us/step - loss: 24.8249\n",
      "Epoch 34/600\n",
      "222337/222337 [==============================] - 2s 11us/step - loss: 24.2751\n",
      "Epoch 35/600\n",
      "222337/222337 [==============================] - 2s 11us/step - loss: 23.7951\n",
      "Epoch 36/600\n",
      "222337/222337 [==============================] - 2s 11us/step - loss: 23.5192\n",
      "Epoch 37/600\n",
      "222337/222337 [==============================] - 2s 11us/step - loss: 23.1195\n",
      "Epoch 38/600\n",
      "222337/222337 [==============================] - 2s 11us/step - loss: 22.7215\n",
      "Epoch 39/600\n",
      "222337/222337 [==============================] - 2s 11us/step - loss: 22.4064\n",
      "Epoch 40/600\n",
      "222337/222337 [==============================] - 2s 11us/step - loss: 22.1361\n",
      "Epoch 41/600\n",
      "222337/222337 [==============================] - 2s 11us/step - loss: 21.6791\n",
      "Epoch 42/600\n",
      "222337/222337 [==============================] - 2s 11us/step - loss: 21.4789\n",
      "Epoch 43/600\n",
      "222337/222337 [==============================] - 2s 11us/step - loss: 21.2118\n",
      "Epoch 44/600\n",
      "222337/222337 [==============================] - 2s 11us/step - loss: 20.8275\n",
      "Epoch 45/600\n",
      "222337/222337 [==============================] - 2s 11us/step - loss: 20.3720\n",
      "Epoch 46/600\n",
      "222337/222337 [==============================] - 2s 11us/step - loss: 20.2545\n",
      "Epoch 47/600\n",
      "222337/222337 [==============================] - 2s 11us/step - loss: 19.8583\n",
      "Epoch 48/600\n",
      "222337/222337 [==============================] - 2s 11us/step - loss: 19.7109\n",
      "Epoch 49/600\n",
      "222337/222337 [==============================] - 2s 11us/step - loss: 19.3896\n",
      "Epoch 50/600\n",
      "222337/222337 [==============================] - 2s 11us/step - loss: 19.1118\n",
      "Epoch 51/600\n",
      "222337/222337 [==============================] - 2s 11us/step - loss: 18.8871\n",
      "Epoch 52/600\n",
      "222337/222337 [==============================] - 2s 11us/step - loss: 18.5841\n",
      "Epoch 53/600\n",
      "222337/222337 [==============================] - 2s 11us/step - loss: 18.3228\n",
      "Epoch 54/600\n",
      "222337/222337 [==============================] - 2s 11us/step - loss: 18.0325\n",
      "Epoch 55/600\n",
      "222337/222337 [==============================] - 2s 11us/step - loss: 17.7636\n",
      "Epoch 56/600\n",
      "222337/222337 [==============================] - 2s 11us/step - loss: 17.5306\n",
      "Epoch 57/600\n",
      "222337/222337 [==============================] - 3s 11us/step - loss: 17.3727\n",
      "Epoch 58/600\n",
      "222337/222337 [==============================] - 2s 11us/step - loss: 17.1151\n",
      "Epoch 59/600\n",
      "222337/222337 [==============================] - 2s 11us/step - loss: 16.9187\n",
      "Epoch 60/600\n",
      "222337/222337 [==============================] - 2s 11us/step - loss: 16.7948\n",
      "Epoch 61/600\n",
      "222337/222337 [==============================] - 2s 11us/step - loss: 16.5311\n",
      "Epoch 62/600\n",
      "222337/222337 [==============================] - 2s 11us/step - loss: 16.3718\n",
      "Epoch 63/600\n",
      "222337/222337 [==============================] - 2s 11us/step - loss: 16.2230\n",
      "Epoch 64/600\n",
      "222337/222337 [==============================] - 2s 11us/step - loss: 16.0176\n",
      "Epoch 65/600\n",
      "222337/222337 [==============================] - 2s 11us/step - loss: 15.9958\n",
      "Epoch 66/600\n",
      "222337/222337 [==============================] - 2s 11us/step - loss: 15.8847\n",
      "Epoch 67/600\n",
      "222337/222337 [==============================] - 2s 11us/step - loss: 15.6557\n",
      "Epoch 68/600\n",
      "222337/222337 [==============================] - 2s 11us/step - loss: 15.5165\n",
      "Epoch 69/600\n",
      "222337/222337 [==============================] - 2s 11us/step - loss: 15.4023\n",
      "Epoch 70/600\n",
      "222337/222337 [==============================] - 2s 11us/step - loss: 15.2657\n",
      "Epoch 71/600\n",
      "222337/222337 [==============================] - 2s 11us/step - loss: 15.1332\n",
      "Epoch 72/600\n",
      "222337/222337 [==============================] - 2s 11us/step - loss: 15.0553\n",
      "Epoch 73/600\n",
      "222337/222337 [==============================] - 2s 11us/step - loss: 14.8469\n",
      "Epoch 74/600\n",
      "222337/222337 [==============================] - 2s 11us/step - loss: 14.7211\n",
      "Epoch 75/600\n",
      "222337/222337 [==============================] - 2s 11us/step - loss: 14.6565\n",
      "Epoch 76/600\n",
      "222337/222337 [==============================] - 2s 11us/step - loss: 14.5496\n",
      "Epoch 77/600\n",
      "222337/222337 [==============================] - 2s 11us/step - loss: 14.3498\n",
      "Epoch 78/600\n",
      "222337/222337 [==============================] - 2s 11us/step - loss: 14.2437\n",
      "Epoch 79/600\n",
      "222337/222337 [==============================] - 2s 11us/step - loss: 14.1426\n",
      "Epoch 80/600\n",
      "222337/222337 [==============================] - 2s 11us/step - loss: 14.0363\n",
      "Epoch 81/600\n",
      "222337/222337 [==============================] - 2s 11us/step - loss: 13.9190\n",
      "Epoch 82/600\n",
      "222337/222337 [==============================] - 2s 11us/step - loss: 13.8422\n",
      "Epoch 83/600\n",
      "222337/222337 [==============================] - 2s 11us/step - loss: 13.6134\n",
      "Epoch 84/600\n",
      "222337/222337 [==============================] - 2s 11us/step - loss: 13.6476\n",
      "Epoch 85/600\n",
      "222337/222337 [==============================] - 2s 11us/step - loss: 13.4228\n",
      "Epoch 86/600\n",
      "222337/222337 [==============================] - 2s 11us/step - loss: 13.3836\n",
      "Epoch 87/600\n",
      "222337/222337 [==============================] - 2s 11us/step - loss: 13.2315\n",
      "Epoch 88/600\n",
      "222337/222337 [==============================] - 2s 11us/step - loss: 13.1029\n",
      "Epoch 89/600\n",
      "222337/222337 [==============================] - 3s 11us/step - loss: 13.0558\n",
      "Epoch 90/600\n",
      "222337/222337 [==============================] - 2s 11us/step - loss: 12.9059\n",
      "Epoch 91/600\n"
     ]
    },
    {
     "name": "stdout",
     "output_type": "stream",
     "text": [
      "222337/222337 [==============================] - 3s 11us/step - loss: 12.8141\n",
      "Epoch 92/600\n",
      "222337/222337 [==============================] - 3s 11us/step - loss: 12.7383\n",
      "Epoch 93/600\n",
      "222337/222337 [==============================] - 2s 11us/step - loss: 12.6421\n",
      "Epoch 94/600\n",
      "222337/222337 [==============================] - 2s 11us/step - loss: 12.5091\n",
      "Epoch 95/600\n",
      "222337/222337 [==============================] - 2s 11us/step - loss: 12.4167\n",
      "Epoch 96/600\n",
      "222337/222337 [==============================] - 2s 11us/step - loss: 12.3444\n",
      "Epoch 97/600\n",
      "222337/222337 [==============================] - 2s 11us/step - loss: 12.2624\n",
      "Epoch 98/600\n",
      "222337/222337 [==============================] - 2s 11us/step - loss: 12.1279\n",
      "Epoch 99/600\n",
      "222337/222337 [==============================] - 2s 11us/step - loss: 12.0553\n",
      "Epoch 100/600\n",
      "222337/222337 [==============================] - 2s 11us/step - loss: 11.9982\n",
      "Epoch 101/600\n",
      "222337/222337 [==============================] - 2s 11us/step - loss: 11.8087\n",
      "Epoch 102/600\n",
      "222337/222337 [==============================] - 2s 11us/step - loss: 11.8102\n",
      "Epoch 103/600\n",
      "222337/222337 [==============================] - 2s 11us/step - loss: 11.6461\n",
      "Epoch 104/600\n",
      "222337/222337 [==============================] - 2s 11us/step - loss: 11.5945\n",
      "Epoch 105/600\n",
      "222337/222337 [==============================] - 2s 11us/step - loss: 11.5272\n",
      "Epoch 106/600\n",
      "222337/222337 [==============================] - 2s 11us/step - loss: 11.4429\n",
      "Epoch 107/600\n",
      "222337/222337 [==============================] - 2s 11us/step - loss: 11.3562\n",
      "Epoch 108/600\n",
      "222337/222337 [==============================] - 2s 11us/step - loss: 11.3137\n",
      "Epoch 109/600\n",
      "222337/222337 [==============================] - 2s 11us/step - loss: 11.2148\n",
      "Epoch 110/600\n",
      "222337/222337 [==============================] - 2s 11us/step - loss: 11.1742\n",
      "Epoch 111/600\n",
      "222337/222337 [==============================] - 2s 11us/step - loss: 11.1494\n",
      "Epoch 112/600\n",
      "222337/222337 [==============================] - 2s 11us/step - loss: 11.0795\n",
      "Epoch 113/600\n",
      "222337/222337 [==============================] - 2s 11us/step - loss: 10.9117\n",
      "Epoch 114/600\n",
      "222337/222337 [==============================] - 2s 11us/step - loss: 10.9567\n",
      "Epoch 115/600\n",
      "222337/222337 [==============================] - 2s 11us/step - loss: 10.8039\n",
      "Epoch 116/600\n",
      "222337/222337 [==============================] - 2s 11us/step - loss: 10.7143\n",
      "Epoch 117/600\n",
      "222337/222337 [==============================] - 2s 11us/step - loss: 10.6329\n",
      "Epoch 118/600\n",
      "222337/222337 [==============================] - 2s 11us/step - loss: 10.5537\n",
      "Epoch 119/600\n",
      "222337/222337 [==============================] - 2s 11us/step - loss: 10.5012\n",
      "Epoch 120/600\n",
      "222337/222337 [==============================] - 2s 11us/step - loss: 10.4595\n",
      "Epoch 121/600\n",
      "222337/222337 [==============================] - 2s 11us/step - loss: 10.3065\n",
      "Epoch 122/600\n",
      "222337/222337 [==============================] - 2s 11us/step - loss: 10.2576\n",
      "Epoch 123/600\n",
      "222337/222337 [==============================] - 2s 11us/step - loss: 10.2297\n",
      "Epoch 124/600\n",
      "222337/222337 [==============================] - 2s 11us/step - loss: 10.1654\n",
      "Epoch 125/600\n",
      "222337/222337 [==============================] - 2s 11us/step - loss: 10.0259\n",
      "Epoch 126/600\n",
      "222337/222337 [==============================] - 2s 11us/step - loss: 9.9633\n",
      "Epoch 127/600\n",
      "222337/222337 [==============================] - 2s 11us/step - loss: 9.8759\n",
      "Epoch 128/600\n",
      "222337/222337 [==============================] - 2s 11us/step - loss: 9.8242\n",
      "Epoch 129/600\n",
      "222337/222337 [==============================] - 2s 11us/step - loss: 9.8413\n",
      "Epoch 130/600\n",
      "222337/222337 [==============================] - 2s 11us/step - loss: 9.7356\n",
      "Epoch 131/600\n",
      "222337/222337 [==============================] - 2s 11us/step - loss: 9.6702\n",
      "Epoch 132/600\n",
      "222337/222337 [==============================] - 2s 11us/step - loss: 9.6381\n",
      "Epoch 133/600\n",
      "222337/222337 [==============================] - 2s 11us/step - loss: 9.5318\n",
      "Epoch 134/600\n",
      "222337/222337 [==============================] - 2s 11us/step - loss: 9.5208\n",
      "Epoch 135/600\n",
      "222337/222337 [==============================] - 2s 11us/step - loss: 9.4367\n",
      "Epoch 136/600\n",
      "222337/222337 [==============================] - 2s 11us/step - loss: 9.4263\n",
      "Epoch 137/600\n",
      "222337/222337 [==============================] - 2s 11us/step - loss: 9.3668\n",
      "Epoch 138/600\n",
      "222337/222337 [==============================] - 2s 11us/step - loss: 9.3049\n",
      "Epoch 139/600\n",
      "222337/222337 [==============================] - 2s 11us/step - loss: 9.2212\n",
      "Epoch 140/600\n",
      "222337/222337 [==============================] - 2s 11us/step - loss: 9.2180\n",
      "Epoch 141/600\n",
      "222337/222337 [==============================] - 2s 11us/step - loss: 9.1369\n",
      "Epoch 142/600\n",
      "222337/222337 [==============================] - 2s 11us/step - loss: 9.1301\n",
      "Epoch 143/600\n",
      "222337/222337 [==============================] - 2s 11us/step - loss: 9.0622\n",
      "Epoch 144/600\n",
      "222337/222337 [==============================] - 2s 11us/step - loss: 9.0291\n",
      "Epoch 145/600\n",
      "222337/222337 [==============================] - 2s 11us/step - loss: 8.9586\n",
      "Epoch 146/600\n",
      "222337/222337 [==============================] - 2s 11us/step - loss: 8.8938\n",
      "Epoch 147/600\n",
      "222337/222337 [==============================] - 2s 11us/step - loss: 8.8509\n",
      "Epoch 148/600\n",
      "222337/222337 [==============================] - 2s 11us/step - loss: 8.8125\n",
      "Epoch 149/600\n",
      "222337/222337 [==============================] - 2s 11us/step - loss: 8.7069\n",
      "Epoch 150/600\n",
      "222337/222337 [==============================] - 2s 11us/step - loss: 8.7027\n",
      "Epoch 151/600\n",
      "222337/222337 [==============================] - 2s 11us/step - loss: 8.6804\n",
      "Epoch 152/600\n",
      "222337/222337 [==============================] - 2s 11us/step - loss: 8.6359\n",
      "Epoch 153/600\n",
      "222337/222337 [==============================] - 2s 11us/step - loss: 8.5810\n",
      "Epoch 154/600\n",
      "222337/222337 [==============================] - 2s 11us/step - loss: 8.5289\n",
      "Epoch 155/600\n",
      "222337/222337 [==============================] - 2s 11us/step - loss: 8.5049\n",
      "Epoch 156/600\n",
      "222337/222337 [==============================] - 2s 11us/step - loss: 8.4353\n",
      "Epoch 157/600\n",
      "222337/222337 [==============================] - 2s 11us/step - loss: 8.4291\n",
      "Epoch 158/600\n",
      "222337/222337 [==============================] - 2s 11us/step - loss: 8.3586\n",
      "Epoch 159/600\n",
      "222337/222337 [==============================] - 2s 11us/step - loss: 8.4079\n",
      "Epoch 160/600\n",
      "222337/222337 [==============================] - 2s 11us/step - loss: 8.2625\n",
      "Epoch 161/600\n",
      "222337/222337 [==============================] - 2s 11us/step - loss: 8.3454\n",
      "Epoch 162/600\n",
      "222337/222337 [==============================] - 2s 11us/step - loss: 8.2433\n",
      "Epoch 163/600\n",
      "222337/222337 [==============================] - 2s 11us/step - loss: 8.2066\n",
      "Epoch 164/600\n",
      "222337/222337 [==============================] - 2s 11us/step - loss: 8.1607\n",
      "Epoch 165/600\n",
      "222337/222337 [==============================] - 2s 11us/step - loss: 8.1531\n",
      "Epoch 166/600\n",
      "222337/222337 [==============================] - 2s 11us/step - loss: 8.1306\n",
      "Epoch 167/600\n",
      "222337/222337 [==============================] - 2s 11us/step - loss: 8.0621\n",
      "Epoch 168/600\n",
      "222337/222337 [==============================] - 2s 11us/step - loss: 8.0581\n",
      "Epoch 169/600\n",
      "222337/222337 [==============================] - 2s 11us/step - loss: 7.9643\n",
      "Epoch 170/600\n",
      "222337/222337 [==============================] - 2s 11us/step - loss: 7.9452\n",
      "Epoch 171/600\n",
      "222337/222337 [==============================] - 2s 11us/step - loss: 7.9010\n",
      "Epoch 172/600\n",
      "222337/222337 [==============================] - 2s 11us/step - loss: 7.8806\n",
      "Epoch 173/600\n",
      "222337/222337 [==============================] - 2s 11us/step - loss: 7.7833\n",
      "Epoch 174/600\n",
      "222337/222337 [==============================] - 2s 11us/step - loss: 7.8032\n",
      "Epoch 175/600\n",
      "222337/222337 [==============================] - 2s 11us/step - loss: 7.7480\n",
      "Epoch 176/600\n",
      "222337/222337 [==============================] - 2s 11us/step - loss: 7.7119\n",
      "Epoch 177/600\n",
      "222337/222337 [==============================] - 2s 11us/step - loss: 7.6750\n",
      "Epoch 178/600\n",
      "222337/222337 [==============================] - 2s 11us/step - loss: 7.6191\n",
      "Epoch 179/600\n",
      "222337/222337 [==============================] - 2s 11us/step - loss: 7.6854\n",
      "Epoch 180/600\n"
     ]
    },
    {
     "name": "stdout",
     "output_type": "stream",
     "text": [
      "222337/222337 [==============================] - 2s 11us/step - loss: 7.5614\n",
      "Epoch 181/600\n",
      "222337/222337 [==============================] - 2s 11us/step - loss: 7.5646\n",
      "Epoch 182/600\n",
      "222337/222337 [==============================] - 2s 11us/step - loss: 7.4896\n",
      "Epoch 183/600\n",
      "222337/222337 [==============================] - 2s 11us/step - loss: 7.4619\n",
      "Epoch 184/600\n",
      "222337/222337 [==============================] - 2s 11us/step - loss: 7.4290\n",
      "Epoch 185/600\n",
      "222337/222337 [==============================] - 2s 11us/step - loss: 7.3719\n",
      "Epoch 186/600\n",
      "222337/222337 [==============================] - 2s 11us/step - loss: 7.3939\n",
      "Epoch 187/600\n",
      "222337/222337 [==============================] - 2s 11us/step - loss: 7.3303\n",
      "Epoch 188/600\n",
      "222337/222337 [==============================] - 2s 11us/step - loss: 7.2992\n",
      "Epoch 189/600\n",
      "222337/222337 [==============================] - 2s 11us/step - loss: 7.2527\n",
      "Epoch 190/600\n",
      "222337/222337 [==============================] - 2s 11us/step - loss: 7.2200\n",
      "Epoch 191/600\n",
      "222337/222337 [==============================] - 2s 11us/step - loss: 7.2336\n",
      "Epoch 192/600\n",
      "222337/222337 [==============================] - 2s 11us/step - loss: 7.1567\n",
      "Epoch 193/600\n",
      "222337/222337 [==============================] - 2s 11us/step - loss: 7.1598\n",
      "Epoch 194/600\n",
      "222337/222337 [==============================] - 2s 11us/step - loss: 7.1427\n",
      "Epoch 195/600\n",
      "222337/222337 [==============================] - 2s 11us/step - loss: 7.0998\n",
      "Epoch 196/600\n",
      "222337/222337 [==============================] - 2s 11us/step - loss: 7.0782\n",
      "Epoch 197/600\n",
      "222337/222337 [==============================] - 2s 11us/step - loss: 7.0328\n",
      "Epoch 198/600\n",
      "222337/222337 [==============================] - 2s 11us/step - loss: 7.0883\n",
      "Epoch 199/600\n",
      "222337/222337 [==============================] - 2s 11us/step - loss: 7.0114\n",
      "Epoch 200/600\n",
      "222337/222337 [==============================] - 2s 11us/step - loss: 6.9691\n",
      "Epoch 201/600\n",
      "222337/222337 [==============================] - 2s 11us/step - loss: 6.9366\n",
      "Epoch 202/600\n",
      "222337/222337 [==============================] - 2s 11us/step - loss: 6.9527\n",
      "Epoch 203/600\n",
      "222337/222337 [==============================] - 2s 11us/step - loss: 6.8590\n",
      "Epoch 204/600\n",
      "222337/222337 [==============================] - 2s 11us/step - loss: 6.8747\n",
      "Epoch 205/600\n",
      "222337/222337 [==============================] - 2s 11us/step - loss: 6.8254\n",
      "Epoch 206/600\n",
      "222337/222337 [==============================] - 2s 11us/step - loss: 6.8464\n",
      "Epoch 207/600\n",
      "222337/222337 [==============================] - 2s 11us/step - loss: 6.7831\n",
      "Epoch 208/600\n",
      "222337/222337 [==============================] - 2s 11us/step - loss: 6.8307\n",
      "Epoch 209/600\n",
      "222337/222337 [==============================] - 2s 11us/step - loss: 6.7263\n",
      "Epoch 210/600\n",
      "222337/222337 [==============================] - 2s 11us/step - loss: 6.7646\n",
      "Epoch 211/600\n",
      "222337/222337 [==============================] - 2s 11us/step - loss: 6.7431\n",
      "Epoch 212/600\n",
      "222337/222337 [==============================] - 2s 11us/step - loss: 6.6885\n",
      "Epoch 213/600\n",
      "222337/222337 [==============================] - 2s 11us/step - loss: 6.6804\n",
      "Epoch 214/600\n",
      "222337/222337 [==============================] - 2s 11us/step - loss: 6.6440\n",
      "Epoch 215/600\n",
      "222337/222337 [==============================] - 3s 11us/step - loss: 6.5936\n",
      "Epoch 216/600\n",
      "222337/222337 [==============================] - 2s 11us/step - loss: 6.6090\n",
      "Epoch 217/600\n",
      "222337/222337 [==============================] - 3s 11us/step - loss: 6.5659\n",
      "Epoch 218/600\n",
      "222337/222337 [==============================] - 2s 11us/step - loss: 6.5716\n",
      "Epoch 219/600\n",
      "222337/222337 [==============================] - 2s 11us/step - loss: 6.5029\n",
      "Epoch 220/600\n",
      "222337/222337 [==============================] - 3s 11us/step - loss: 6.5247\n",
      "Epoch 221/600\n",
      "222337/222337 [==============================] - 2s 11us/step - loss: 6.5021\n",
      "Epoch 222/600\n",
      "222337/222337 [==============================] - 2s 11us/step - loss: 6.4985\n",
      "Epoch 223/600\n",
      "222337/222337 [==============================] - 2s 11us/step - loss: 6.4203\n",
      "Epoch 224/600\n",
      "222337/222337 [==============================] - 2s 11us/step - loss: 6.4167\n",
      "Epoch 225/600\n",
      "222337/222337 [==============================] - 2s 11us/step - loss: 6.4446\n",
      "Epoch 226/600\n",
      "222337/222337 [==============================] - 3s 11us/step - loss: 6.3758\n",
      "Epoch 227/600\n",
      "222337/222337 [==============================] - 2s 11us/step - loss: 6.3667\n",
      "Epoch 228/600\n",
      "222337/222337 [==============================] - 2s 11us/step - loss: 6.3383\n",
      "Epoch 229/600\n",
      "222337/222337 [==============================] - 3s 11us/step - loss: 6.3278\n",
      "Epoch 230/600\n",
      "222337/222337 [==============================] - 3s 11us/step - loss: 6.2914\n",
      "Epoch 231/600\n",
      "222337/222337 [==============================] - 3s 12us/step - loss: 6.2921\n",
      "Epoch 232/600\n",
      "222337/222337 [==============================] - 3s 11us/step - loss: 6.2843\n",
      "Epoch 233/600\n",
      "222337/222337 [==============================] - 3s 12us/step - loss: 6.2371\n",
      "Epoch 234/600\n",
      "222337/222337 [==============================] - 2s 11us/step - loss: 6.2670\n",
      "Epoch 235/600\n",
      "222337/222337 [==============================] - 2s 11us/step - loss: 6.1948\n",
      "Epoch 236/600\n",
      "222337/222337 [==============================] - 2s 11us/step - loss: 6.1798\n",
      "Epoch 237/600\n",
      "222337/222337 [==============================] - 2s 11us/step - loss: 6.1677\n",
      "Epoch 238/600\n",
      "222337/222337 [==============================] - 2s 11us/step - loss: 6.1864\n",
      "Epoch 239/600\n",
      "222337/222337 [==============================] - 2s 11us/step - loss: 6.1160\n",
      "Epoch 240/600\n",
      "222337/222337 [==============================] - 2s 11us/step - loss: 6.1247\n",
      "Epoch 241/600\n",
      "222337/222337 [==============================] - 2s 11us/step - loss: 6.1246\n",
      "Epoch 242/600\n",
      "222337/222337 [==============================] - 2s 11us/step - loss: 6.0537\n",
      "Epoch 243/600\n",
      "222337/222337 [==============================] - 2s 11us/step - loss: 6.0768\n",
      "Epoch 244/600\n",
      "222337/222337 [==============================] - 2s 11us/step - loss: 6.0441\n",
      "Epoch 245/600\n",
      "222337/222337 [==============================] - 2s 11us/step - loss: 6.0028\n",
      "Epoch 246/600\n",
      "222337/222337 [==============================] - 2s 11us/step - loss: 5.9902\n",
      "Epoch 247/600\n",
      "222337/222337 [==============================] - 2s 11us/step - loss: 6.0007\n",
      "Epoch 248/600\n",
      "222337/222337 [==============================] - 2s 11us/step - loss: 5.9681\n",
      "Epoch 249/600\n",
      "222337/222337 [==============================] - 2s 11us/step - loss: 5.9492\n",
      "Epoch 250/600\n",
      "222337/222337 [==============================] - 2s 11us/step - loss: 5.9622\n",
      "Epoch 251/600\n",
      "222337/222337 [==============================] - 2s 11us/step - loss: 5.8824\n",
      "Epoch 252/600\n",
      "222337/222337 [==============================] - 2s 11us/step - loss: 5.9123\n",
      "Epoch 253/600\n",
      "222337/222337 [==============================] - 2s 11us/step - loss: 5.8904\n",
      "Epoch 254/600\n",
      "222337/222337 [==============================] - 2s 11us/step - loss: 5.9133\n",
      "Epoch 255/600\n",
      "222337/222337 [==============================] - 2s 11us/step - loss: 5.9145\n",
      "Epoch 256/600\n",
      "222337/222337 [==============================] - 2s 11us/step - loss: 5.8908\n",
      "Epoch 257/600\n",
      "222337/222337 [==============================] - 2s 11us/step - loss: 5.8574\n",
      "Epoch 258/600\n",
      "222337/222337 [==============================] - 2s 11us/step - loss: 5.8429\n",
      "Epoch 259/600\n",
      "222337/222337 [==============================] - 2s 11us/step - loss: 5.8377\n",
      "Epoch 260/600\n",
      "222337/222337 [==============================] - 2s 11us/step - loss: 5.7927\n",
      "Epoch 261/600\n",
      "222337/222337 [==============================] - 2s 11us/step - loss: 5.8050\n",
      "Epoch 262/600\n",
      "222337/222337 [==============================] - 2s 11us/step - loss: 5.8092\n",
      "Epoch 263/600\n",
      "222337/222337 [==============================] - 2s 11us/step - loss: 5.7719\n",
      "Epoch 264/600\n",
      "222337/222337 [==============================] - 2s 11us/step - loss: 5.7713\n",
      "Epoch 265/600\n",
      "222337/222337 [==============================] - 2s 11us/step - loss: 5.7846\n",
      "Epoch 266/600\n",
      "222337/222337 [==============================] - 2s 11us/step - loss: 5.7521\n",
      "Epoch 267/600\n",
      "222337/222337 [==============================] - 2s 11us/step - loss: 5.7329\n",
      "Epoch 268/600\n",
      "222337/222337 [==============================] - 2s 11us/step - loss: 5.7410\n",
      "Epoch 269/600\n",
      "222337/222337 [==============================] - 2s 11us/step - loss: 5.7437\n",
      "Epoch 270/600\n"
     ]
    },
    {
     "name": "stdout",
     "output_type": "stream",
     "text": [
      "222337/222337 [==============================] - 2s 11us/step - loss: 5.7368\n",
      "Epoch 271/600\n",
      "222337/222337 [==============================] - 2s 11us/step - loss: 5.7172\n",
      "Epoch 272/600\n",
      "222337/222337 [==============================] - 2s 11us/step - loss: 5.7265\n",
      "Epoch 273/600\n",
      "222337/222337 [==============================] - 2s 11us/step - loss: 5.6720\n",
      "Epoch 274/600\n",
      "222337/222337 [==============================] - 2s 11us/step - loss: 5.6913\n",
      "Epoch 275/600\n",
      "222337/222337 [==============================] - 2s 11us/step - loss: 5.6696\n",
      "Epoch 276/600\n",
      "222337/222337 [==============================] - 2s 11us/step - loss: 5.6407\n",
      "Epoch 277/600\n",
      "222337/222337 [==============================] - 2s 11us/step - loss: 5.6779\n",
      "Epoch 278/600\n",
      "222337/222337 [==============================] - 2s 11us/step - loss: 5.6353\n",
      "Epoch 279/600\n",
      "222337/222337 [==============================] - 2s 11us/step - loss: 5.6345\n",
      "Epoch 280/600\n",
      "222337/222337 [==============================] - 2s 11us/step - loss: 5.6151\n",
      "Epoch 281/600\n",
      "222337/222337 [==============================] - 2s 11us/step - loss: 5.6178\n",
      "Epoch 282/600\n",
      "222337/222337 [==============================] - 2s 11us/step - loss: 5.6565\n",
      "Epoch 283/600\n",
      "222337/222337 [==============================] - 2s 11us/step - loss: 5.6041\n",
      "Epoch 284/600\n",
      "222337/222337 [==============================] - 2s 11us/step - loss: 5.5995\n",
      "Epoch 285/600\n",
      "222337/222337 [==============================] - 2s 11us/step - loss: 5.6378\n",
      "Epoch 286/600\n",
      "222337/222337 [==============================] - 2s 11us/step - loss: 5.5997\n",
      "Epoch 287/600\n",
      "222337/222337 [==============================] - 3s 12us/step - loss: 5.5722\n",
      "Epoch 288/600\n",
      "222337/222337 [==============================] - 3s 11us/step - loss: 5.5621\n",
      "Epoch 289/600\n",
      "222337/222337 [==============================] - 3s 11us/step - loss: 5.5670\n",
      "Epoch 290/600\n",
      "222337/222337 [==============================] - 3s 11us/step - loss: 5.5888\n",
      "Epoch 291/600\n",
      "222337/222337 [==============================] - 3s 11us/step - loss: 5.5135\n",
      "Epoch 292/600\n",
      "222337/222337 [==============================] - 3s 11us/step - loss: 5.5355\n",
      "Epoch 293/600\n",
      "222337/222337 [==============================] - 2s 11us/step - loss: 5.5394\n",
      "Epoch 294/600\n",
      "222337/222337 [==============================] - 2s 11us/step - loss: 5.5257\n",
      "Epoch 295/600\n",
      "222337/222337 [==============================] - 2s 11us/step - loss: 5.5268\n",
      "Epoch 296/600\n",
      "222337/222337 [==============================] - 2s 11us/step - loss: 5.5223\n",
      "Epoch 297/600\n",
      "222337/222337 [==============================] - 2s 11us/step - loss: 5.4970\n",
      "Epoch 298/600\n",
      "222337/222337 [==============================] - 2s 11us/step - loss: 5.4878\n",
      "Epoch 299/600\n",
      "222337/222337 [==============================] - 2s 11us/step - loss: 5.4811\n",
      "Epoch 300/600\n",
      "222337/222337 [==============================] - 2s 11us/step - loss: 5.4863\n",
      "Epoch 301/600\n",
      "222337/222337 [==============================] - 2s 11us/step - loss: 5.4404\n",
      "Epoch 302/600\n",
      "222337/222337 [==============================] - 2s 11us/step - loss: 5.4458\n",
      "Epoch 303/600\n",
      "222337/222337 [==============================] - 2s 11us/step - loss: 5.4500\n",
      "Epoch 304/600\n",
      "222337/222337 [==============================] - 2s 11us/step - loss: 5.4159\n",
      "Epoch 305/600\n",
      "222337/222337 [==============================] - 2s 11us/step - loss: 5.4592\n",
      "Epoch 306/600\n",
      "222337/222337 [==============================] - 2s 11us/step - loss: 5.4210\n",
      "Epoch 307/600\n",
      "222337/222337 [==============================] - 2s 11us/step - loss: 5.4422\n",
      "Epoch 308/600\n",
      "222337/222337 [==============================] - 3s 11us/step - loss: 5.4226\n",
      "Epoch 309/600\n",
      "222337/222337 [==============================] - 2s 11us/step - loss: 5.3913\n",
      "Epoch 310/600\n",
      "222337/222337 [==============================] - 2s 11us/step - loss: 5.4086\n",
      "Epoch 311/600\n",
      "222337/222337 [==============================] - 3s 11us/step - loss: 5.3784\n",
      "Epoch 312/600\n",
      "222337/222337 [==============================] - 2s 11us/step - loss: 5.3835\n",
      "Epoch 313/600\n",
      "222337/222337 [==============================] - 2s 11us/step - loss: 5.3602\n",
      "Epoch 314/600\n",
      "222337/222337 [==============================] - 2s 11us/step - loss: 5.3615\n",
      "Epoch 315/600\n",
      "222337/222337 [==============================] - 2s 11us/step - loss: 5.3388\n",
      "Epoch 316/600\n",
      "222337/222337 [==============================] - 2s 11us/step - loss: 5.3415\n",
      "Epoch 317/600\n",
      "222337/222337 [==============================] - 2s 11us/step - loss: 5.3324\n",
      "Epoch 318/600\n",
      "222337/222337 [==============================] - 2s 11us/step - loss: 5.3141\n",
      "Epoch 319/600\n",
      "222337/222337 [==============================] - 2s 11us/step - loss: 5.3594\n",
      "Epoch 320/600\n",
      "222337/222337 [==============================] - 2s 11us/step - loss: 5.3275\n",
      "Epoch 321/600\n",
      "222337/222337 [==============================] - 2s 11us/step - loss: 5.3184\n",
      "Epoch 322/600\n",
      "222337/222337 [==============================] - 2s 11us/step - loss: 5.2724\n",
      "Epoch 323/600\n",
      "222337/222337 [==============================] - 2s 11us/step - loss: 5.2898\n",
      "Epoch 324/600\n",
      "222337/222337 [==============================] - 2s 11us/step - loss: 5.2936\n",
      "Epoch 325/600\n",
      "222337/222337 [==============================] - 2s 11us/step - loss: 5.2732\n",
      "Epoch 326/600\n",
      "222337/222337 [==============================] - 2s 11us/step - loss: 5.2767\n",
      "Epoch 327/600\n",
      "222337/222337 [==============================] - 2s 11us/step - loss: 5.2566\n",
      "Epoch 328/600\n",
      "222337/222337 [==============================] - 2s 11us/step - loss: 5.2572\n",
      "Epoch 329/600\n",
      "222337/222337 [==============================] - 2s 11us/step - loss: 5.2721\n",
      "Epoch 330/600\n",
      "222337/222337 [==============================] - 2s 11us/step - loss: 5.2287\n",
      "Epoch 331/600\n",
      "222337/222337 [==============================] - 2s 11us/step - loss: 5.2503\n",
      "Epoch 332/600\n",
      "222337/222337 [==============================] - 2s 11us/step - loss: 5.1798\n",
      "Epoch 333/600\n",
      "222337/222337 [==============================] - 2s 11us/step - loss: 5.2439\n",
      "Epoch 334/600\n",
      "222337/222337 [==============================] - 2s 11us/step - loss: 5.1892\n",
      "Epoch 335/600\n",
      "222337/222337 [==============================] - 3s 11us/step - loss: 5.1974\n",
      "Epoch 336/600\n",
      "222337/222337 [==============================] - 3s 11us/step - loss: 5.2104\n",
      "Epoch 337/600\n",
      "222337/222337 [==============================] - 2s 11us/step - loss: 5.2010\n",
      "Epoch 338/600\n",
      "222337/222337 [==============================] - 2s 11us/step - loss: 5.1837\n",
      "Epoch 339/600\n",
      "222337/222337 [==============================] - 2s 11us/step - loss: 5.1570\n",
      "Epoch 340/600\n",
      "222337/222337 [==============================] - 2s 11us/step - loss: 5.1351\n",
      "Epoch 341/600\n",
      "222337/222337 [==============================] - 3s 11us/step - loss: 5.1776\n",
      "Epoch 342/600\n",
      "222337/222337 [==============================] - 2s 11us/step - loss: 5.1486\n",
      "Epoch 343/600\n",
      "222337/222337 [==============================] - 2s 11us/step - loss: 5.1500\n",
      "Epoch 344/600\n",
      "222337/222337 [==============================] - 2s 11us/step - loss: 5.1533\n",
      "Epoch 345/600\n",
      "222337/222337 [==============================] - 2s 11us/step - loss: 5.1622\n",
      "Epoch 346/600\n",
      "222337/222337 [==============================] - 2s 11us/step - loss: 5.1189\n",
      "Epoch 347/600\n",
      "222337/222337 [==============================] - 2s 11us/step - loss: 5.1247\n",
      "Epoch 348/600\n",
      "222337/222337 [==============================] - 2s 11us/step - loss: 5.1392\n",
      "Epoch 349/600\n",
      "222337/222337 [==============================] - 2s 11us/step - loss: 5.1320\n",
      "Epoch 350/600\n",
      "222337/222337 [==============================] - 2s 11us/step - loss: 5.0943\n",
      "Epoch 351/600\n",
      "222337/222337 [==============================] - 2s 11us/step - loss: 5.1035\n",
      "Epoch 352/600\n",
      "222337/222337 [==============================] - 2s 11us/step - loss: 5.0995\n",
      "Epoch 353/600\n",
      "222337/222337 [==============================] - 2s 11us/step - loss: 5.0891\n",
      "Epoch 354/600\n",
      "222337/222337 [==============================] - 2s 11us/step - loss: 5.0788\n",
      "Epoch 355/600\n",
      "222337/222337 [==============================] - 2s 11us/step - loss: 5.0431\n",
      "Epoch 356/600\n",
      "222337/222337 [==============================] - 2s 11us/step - loss: 5.0692\n",
      "Epoch 357/600\n",
      "222337/222337 [==============================] - 3s 11us/step - loss: 5.0848\n",
      "Epoch 358/600\n",
      "222337/222337 [==============================] - 2s 11us/step - loss: 5.0773\n",
      "Epoch 359/600\n",
      "222337/222337 [==============================] - 2s 11us/step - loss: 5.0835\n",
      "Epoch 360/600\n"
     ]
    },
    {
     "name": "stdout",
     "output_type": "stream",
     "text": [
      "222337/222337 [==============================] - 2s 11us/step - loss: 5.0341\n",
      "Epoch 361/600\n",
      "222337/222337 [==============================] - 2s 11us/step - loss: 5.0590\n",
      "Epoch 362/600\n",
      "222337/222337 [==============================] - 2s 11us/step - loss: 5.0497\n",
      "Epoch 363/600\n",
      "222337/222337 [==============================] - 2s 11us/step - loss: 5.0316\n",
      "Epoch 364/600\n",
      "222337/222337 [==============================] - 2s 11us/step - loss: 5.0103\n",
      "Epoch 365/600\n",
      "222337/222337 [==============================] - 2s 11us/step - loss: 5.0410\n",
      "Epoch 366/600\n",
      "222337/222337 [==============================] - 2s 11us/step - loss: 5.0413\n",
      "Epoch 367/600\n",
      "222337/222337 [==============================] - 2s 11us/step - loss: 4.9979\n",
      "Epoch 368/600\n",
      "222337/222337 [==============================] - 2s 11us/step - loss: 5.0242\n",
      "Epoch 369/600\n",
      "222337/222337 [==============================] - 2s 11us/step - loss: 5.0163\n",
      "Epoch 370/600\n",
      "222337/222337 [==============================] - 2s 11us/step - loss: 4.9996\n",
      "Epoch 371/600\n",
      "222337/222337 [==============================] - 3s 11us/step - loss: 4.9824\n",
      "Epoch 372/600\n",
      "222337/222337 [==============================] - 2s 11us/step - loss: 5.0077\n",
      "Epoch 373/600\n",
      "222337/222337 [==============================] - 2s 11us/step - loss: 4.9867\n",
      "Epoch 374/600\n",
      "222337/222337 [==============================] - 3s 11us/step - loss: 4.9669\n",
      "Epoch 375/600\n",
      "222337/222337 [==============================] - 2s 11us/step - loss: 4.9787\n",
      "Epoch 376/600\n",
      "222337/222337 [==============================] - 2s 11us/step - loss: 4.9664\n",
      "Epoch 377/600\n",
      "222337/222337 [==============================] - 3s 12us/step - loss: 4.9766\n",
      "Epoch 378/600\n",
      "222337/222337 [==============================] - 3s 12us/step - loss: 4.9999\n",
      "Epoch 379/600\n",
      "222337/222337 [==============================] - 3s 12us/step - loss: 4.9755\n",
      "Epoch 380/600\n",
      "222337/222337 [==============================] - 2s 11us/step - loss: 4.9295\n",
      "Epoch 381/600\n",
      "222337/222337 [==============================] - 2s 11us/step - loss: 4.9550\n",
      "Epoch 382/600\n",
      "222337/222337 [==============================] - 2s 10us/step - loss: 4.9517\n",
      "Epoch 383/600\n",
      "222337/222337 [==============================] - 2s 11us/step - loss: 4.9251\n",
      "Epoch 384/600\n",
      "222337/222337 [==============================] - 2s 11us/step - loss: 4.9443\n",
      "Epoch 385/600\n",
      "222337/222337 [==============================] - 2s 11us/step - loss: 4.9501\n",
      "Epoch 386/600\n",
      "222337/222337 [==============================] - 2s 11us/step - loss: 4.9126\n",
      "Epoch 387/600\n",
      "222337/222337 [==============================] - 2s 11us/step - loss: 4.9112\n",
      "Epoch 388/600\n",
      "222337/222337 [==============================] - 2s 11us/step - loss: 4.8911\n",
      "Epoch 389/600\n",
      "222337/222337 [==============================] - 2s 11us/step - loss: 4.8788\n",
      "Epoch 390/600\n",
      "222337/222337 [==============================] - 2s 11us/step - loss: 4.9000\n",
      "Epoch 391/600\n",
      "222337/222337 [==============================] - 3s 11us/step - loss: 4.8976\n",
      "Epoch 392/600\n",
      "222337/222337 [==============================] - 3s 12us/step - loss: 4.8935\n",
      "Epoch 393/600\n",
      "222337/222337 [==============================] - 2s 11us/step - loss: 4.8662\n",
      "Epoch 394/600\n",
      "222337/222337 [==============================] - 2s 11us/step - loss: 4.8835\n",
      "Epoch 395/600\n",
      "222337/222337 [==============================] - 2s 11us/step - loss: 4.8442\n",
      "Epoch 396/600\n",
      "222337/222337 [==============================] - 2s 11us/step - loss: 4.8465\n",
      "Epoch 397/600\n",
      "222337/222337 [==============================] - 2s 10us/step - loss: 4.8481\n",
      "Epoch 398/600\n",
      "222337/222337 [==============================] - 2s 11us/step - loss: 4.8497\n",
      "Epoch 399/600\n",
      "222337/222337 [==============================] - 2s 11us/step - loss: 4.8475\n",
      "Epoch 400/600\n",
      "222337/222337 [==============================] - 3s 11us/step - loss: 4.8156\n",
      "Epoch 401/600\n",
      "222337/222337 [==============================] - 2s 11us/step - loss: 4.8415\n",
      "Epoch 402/600\n",
      "222337/222337 [==============================] - 2s 11us/step - loss: 4.8652\n",
      "Epoch 403/600\n",
      "222337/222337 [==============================] - 2s 11us/step - loss: 4.8204\n",
      "Epoch 404/600\n",
      "222337/222337 [==============================] - 3s 12us/step - loss: 4.8283\n",
      "Epoch 405/600\n",
      "222337/222337 [==============================] - 3s 11us/step - loss: 4.7924\n",
      "Epoch 406/600\n",
      "222337/222337 [==============================] - 3s 12us/step - loss: 4.8298\n",
      "Epoch 407/600\n",
      "222337/222337 [==============================] - 2s 11us/step - loss: 4.8123\n",
      "Epoch 408/600\n",
      "222337/222337 [==============================] - 3s 11us/step - loss: 4.8245\n",
      "Epoch 409/600\n",
      "222337/222337 [==============================] - 3s 11us/step - loss: 4.7907\n",
      "Epoch 410/600\n",
      "222337/222337 [==============================] - 3s 11us/step - loss: 4.8108\n",
      "Epoch 411/600\n",
      "222337/222337 [==============================] - 2s 11us/step - loss: 4.7656\n",
      "Epoch 412/600\n",
      "222337/222337 [==============================] - 3s 11us/step - loss: 4.7972\n",
      "Epoch 413/600\n",
      "222337/222337 [==============================] - 3s 11us/step - loss: 4.7927\n",
      "Epoch 414/600\n",
      "222337/222337 [==============================] - 3s 11us/step - loss: 4.7652\n",
      "Epoch 415/600\n",
      "222337/222337 [==============================] - 2s 11us/step - loss: 4.7600\n",
      "Epoch 416/600\n",
      "222337/222337 [==============================] - 2s 11us/step - loss: 4.7568\n",
      "Epoch 417/600\n",
      "222337/222337 [==============================] - 3s 11us/step - loss: 4.7529\n",
      "Epoch 418/600\n",
      "222337/222337 [==============================] - 2s 11us/step - loss: 4.7441\n",
      "Epoch 419/600\n",
      "222337/222337 [==============================] - 3s 11us/step - loss: 4.7435\n",
      "Epoch 420/600\n",
      "222337/222337 [==============================] - 3s 11us/step - loss: 4.7440\n",
      "Epoch 421/600\n",
      "222337/222337 [==============================] - 3s 12us/step - loss: 4.7300\n",
      "Epoch 422/600\n",
      "222337/222337 [==============================] - 3s 11us/step - loss: 4.7200\n",
      "Epoch 423/600\n",
      "222337/222337 [==============================] - 3s 11us/step - loss: 4.7141\n",
      "Epoch 424/600\n",
      "222337/222337 [==============================] - 3s 11us/step - loss: 4.6752\n",
      "Epoch 425/600\n",
      "222337/222337 [==============================] - 2s 11us/step - loss: 4.6796\n",
      "Epoch 426/600\n",
      "222337/222337 [==============================] - 2s 11us/step - loss: 4.6480\n",
      "Epoch 427/600\n",
      "222337/222337 [==============================] - 3s 11us/step - loss: 4.6714\n",
      "Epoch 428/600\n",
      "222337/222337 [==============================] - 2s 11us/step - loss: 4.6579\n",
      "Epoch 429/600\n",
      "222337/222337 [==============================] - 2s 11us/step - loss: 4.6308\n",
      "Epoch 430/600\n",
      "222337/222337 [==============================] - 3s 12us/step - loss: 4.6549\n",
      "Epoch 431/600\n",
      "222337/222337 [==============================] - 3s 12us/step - loss: 4.6074\n",
      "Epoch 432/600\n",
      "222337/222337 [==============================] - 3s 12us/step - loss: 4.6349\n",
      "Epoch 433/600\n",
      "222337/222337 [==============================] - 2s 11us/step - loss: 4.6103\n",
      "Epoch 434/600\n",
      "222337/222337 [==============================] - 3s 12us/step - loss: 4.5775\n",
      "Epoch 435/600\n",
      "222337/222337 [==============================] - 3s 11us/step - loss: 4.6258\n",
      "Epoch 436/600\n",
      "222337/222337 [==============================] - 3s 12us/step - loss: 4.5824\n",
      "Epoch 437/600\n",
      "222337/222337 [==============================] - 3s 12us/step - loss: 4.5713\n",
      "Epoch 438/600\n",
      "222337/222337 [==============================] - 3s 12us/step - loss: 4.5545\n",
      "Epoch 439/600\n",
      "222337/222337 [==============================] - 3s 12us/step - loss: 4.5495\n",
      "Epoch 440/600\n",
      "222337/222337 [==============================] - 3s 12us/step - loss: 4.5229\n",
      "Epoch 441/600\n",
      "222337/222337 [==============================] - 3s 12us/step - loss: 4.5331\n",
      "Epoch 442/600\n",
      "222337/222337 [==============================] - 2s 11us/step - loss: 4.5242\n",
      "Epoch 443/600\n",
      "222337/222337 [==============================] - 2s 11us/step - loss: 4.4990\n",
      "Epoch 444/600\n",
      "222337/222337 [==============================] - 2s 11us/step - loss: 4.4919\n",
      "Epoch 445/600\n",
      "222337/222337 [==============================] - 2s 11us/step - loss: 4.4902\n",
      "Epoch 446/600\n",
      "222337/222337 [==============================] - 2s 11us/step - loss: 4.4887\n",
      "Epoch 447/600\n",
      "222337/222337 [==============================] - 3s 11us/step - loss: 4.4809\n",
      "Epoch 448/600\n",
      "222337/222337 [==============================] - 2s 11us/step - loss: 4.4823\n",
      "Epoch 449/600\n",
      "222337/222337 [==============================] - 2s 11us/step - loss: 4.4486\n",
      "Epoch 450/600\n"
     ]
    },
    {
     "name": "stdout",
     "output_type": "stream",
     "text": [
      "222337/222337 [==============================] - 2s 11us/step - loss: 4.4852\n",
      "Epoch 451/600\n",
      "222337/222337 [==============================] - 2s 11us/step - loss: 4.4207\n",
      "Epoch 452/600\n",
      "222337/222337 [==============================] - 2s 11us/step - loss: 4.4542\n",
      "Epoch 453/600\n",
      "222337/222337 [==============================] - 2s 11us/step - loss: 4.4083\n",
      "Epoch 454/600\n",
      "222337/222337 [==============================] - 2s 11us/step - loss: 4.4373\n",
      "Epoch 455/600\n",
      "222337/222337 [==============================] - 2s 11us/step - loss: 4.4054\n",
      "Epoch 456/600\n",
      "222337/222337 [==============================] - 2s 11us/step - loss: 4.4249\n",
      "Epoch 457/600\n",
      "222337/222337 [==============================] - 2s 11us/step - loss: 4.5555\n",
      "Epoch 458/600\n",
      "222337/222337 [==============================] - 2s 11us/step - loss: 4.4111\n",
      "Epoch 459/600\n",
      "222337/222337 [==============================] - 2s 11us/step - loss: 4.4127\n",
      "Epoch 460/600\n",
      "222337/222337 [==============================] - 3s 11us/step - loss: 4.3981\n",
      "Epoch 461/600\n",
      "222337/222337 [==============================] - 2s 11us/step - loss: 4.4037\n",
      "Epoch 462/600\n",
      "222337/222337 [==============================] - 2s 11us/step - loss: 4.3635\n",
      "Epoch 463/600\n",
      "222337/222337 [==============================] - 2s 11us/step - loss: 4.3596\n",
      "Epoch 464/600\n",
      "222337/222337 [==============================] - 2s 11us/step - loss: 4.3692\n",
      "Epoch 465/600\n",
      "222337/222337 [==============================] - 2s 11us/step - loss: 4.3624\n",
      "Epoch 466/600\n",
      "222337/222337 [==============================] - 3s 11us/step - loss: 4.3615\n",
      "Epoch 467/600\n",
      "222337/222337 [==============================] - 3s 11us/step - loss: 4.3428\n",
      "Epoch 468/600\n",
      "222337/222337 [==============================] - 3s 11us/step - loss: 4.3334\n",
      "Epoch 469/600\n",
      "222337/222337 [==============================] - 2s 11us/step - loss: 4.3426\n",
      "Epoch 470/600\n",
      "222337/222337 [==============================] - 2s 11us/step - loss: 4.3106\n",
      "Epoch 471/600\n",
      "222337/222337 [==============================] - 3s 11us/step - loss: 4.3591\n",
      "Epoch 472/600\n",
      "222337/222337 [==============================] - 2s 11us/step - loss: 4.3280\n",
      "Epoch 473/600\n",
      "222337/222337 [==============================] - 2s 11us/step - loss: 4.3030\n",
      "Epoch 474/600\n",
      "222337/222337 [==============================] - 3s 11us/step - loss: 4.3206\n",
      "Epoch 475/600\n",
      "222337/222337 [==============================] - 2s 11us/step - loss: 4.3031\n",
      "Epoch 476/600\n",
      "222337/222337 [==============================] - 2s 11us/step - loss: 4.2902\n",
      "Epoch 477/600\n",
      "222337/222337 [==============================] - 2s 11us/step - loss: 4.2995\n",
      "Epoch 478/600\n",
      "222337/222337 [==============================] - 2s 11us/step - loss: 4.2894\n",
      "Epoch 479/600\n",
      "222337/222337 [==============================] - 2s 11us/step - loss: 4.2799\n",
      "Epoch 480/600\n",
      "222337/222337 [==============================] - 2s 11us/step - loss: 4.2805\n",
      "Epoch 481/600\n",
      "222337/222337 [==============================] - 3s 11us/step - loss: 4.2471\n",
      "Epoch 482/600\n",
      "222337/222337 [==============================] - 2s 11us/step - loss: 4.2749\n",
      "Epoch 483/600\n",
      "222337/222337 [==============================] - 2s 11us/step - loss: 4.2676\n",
      "Epoch 484/600\n",
      "222337/222337 [==============================] - 2s 11us/step - loss: 4.2751\n",
      "Epoch 485/600\n",
      "222337/222337 [==============================] - 2s 11us/step - loss: 4.2607\n",
      "Epoch 486/600\n",
      "222337/222337 [==============================] - 2s 11us/step - loss: 4.2509\n",
      "Epoch 487/600\n",
      "222337/222337 [==============================] - 2s 11us/step - loss: 4.2647\n",
      "Epoch 488/600\n",
      "222337/222337 [==============================] - 2s 11us/step - loss: 4.2455\n",
      "Epoch 489/600\n",
      "222337/222337 [==============================] - 2s 11us/step - loss: 4.2649\n",
      "Epoch 490/600\n",
      "222337/222337 [==============================] - 2s 11us/step - loss: 4.2018\n",
      "Epoch 491/600\n",
      "222337/222337 [==============================] - 2s 11us/step - loss: 4.2302\n",
      "Epoch 492/600\n",
      "222337/222337 [==============================] - 2s 11us/step - loss: 4.2324\n",
      "Epoch 493/600\n",
      "222337/222337 [==============================] - 2s 11us/step - loss: 4.2091\n",
      "Epoch 494/600\n",
      "222337/222337 [==============================] - 2s 11us/step - loss: 4.2004\n",
      "Epoch 495/600\n",
      "222337/222337 [==============================] - 2s 11us/step - loss: 4.2173\n",
      "Epoch 496/600\n",
      "222337/222337 [==============================] - 2s 11us/step - loss: 4.1935\n",
      "Epoch 497/600\n",
      "222337/222337 [==============================] - 2s 11us/step - loss: 4.1826\n",
      "Epoch 498/600\n",
      "222337/222337 [==============================] - 2s 11us/step - loss: 4.1938\n",
      "Epoch 499/600\n",
      "222337/222337 [==============================] - 2s 11us/step - loss: 4.1627\n",
      "Epoch 500/600\n",
      "222337/222337 [==============================] - 2s 11us/step - loss: 4.2025\n",
      "Epoch 501/600\n",
      "222337/222337 [==============================] - 2s 11us/step - loss: 4.1822\n",
      "Epoch 502/600\n",
      "222337/222337 [==============================] - 2s 11us/step - loss: 4.1773\n",
      "Epoch 503/600\n",
      "222337/222337 [==============================] - 2s 11us/step - loss: 4.1970\n",
      "Epoch 504/600\n",
      "222337/222337 [==============================] - 2s 11us/step - loss: 4.1697\n",
      "Epoch 505/600\n",
      "222337/222337 [==============================] - 2s 11us/step - loss: 4.1661\n",
      "Epoch 506/600\n",
      "222337/222337 [==============================] - 2s 11us/step - loss: 4.1706\n",
      "Epoch 507/600\n",
      "222337/222337 [==============================] - 3s 11us/step - loss: 4.1430\n",
      "Epoch 508/600\n",
      "222337/222337 [==============================] - 2s 11us/step - loss: 4.1618\n",
      "Epoch 509/600\n",
      "222337/222337 [==============================] - 2s 11us/step - loss: 4.1599\n",
      "Epoch 510/600\n",
      "222337/222337 [==============================] - 2s 11us/step - loss: 4.1474\n",
      "Epoch 511/600\n",
      "222337/222337 [==============================] - 2s 11us/step - loss: 4.1487\n",
      "Epoch 512/600\n",
      "222337/222337 [==============================] - 2s 11us/step - loss: 4.1326\n",
      "Epoch 513/600\n",
      "222337/222337 [==============================] - 2s 11us/step - loss: 4.1115\n",
      "Epoch 514/600\n",
      "222337/222337 [==============================] - 2s 11us/step - loss: 4.1447\n",
      "Epoch 515/600\n",
      "222337/222337 [==============================] - 2s 11us/step - loss: 4.1200\n",
      "Epoch 516/600\n",
      "222337/222337 [==============================] - 2s 11us/step - loss: 4.1189\n",
      "Epoch 517/600\n",
      "222337/222337 [==============================] - 2s 11us/step - loss: 4.1312\n",
      "Epoch 518/600\n",
      "222337/222337 [==============================] - 2s 11us/step - loss: 4.1436\n",
      "Epoch 519/600\n",
      "222337/222337 [==============================] - 2s 11us/step - loss: 4.1018\n",
      "Epoch 520/600\n",
      "222337/222337 [==============================] - 2s 11us/step - loss: 4.1161\n",
      "Epoch 521/600\n",
      "222337/222337 [==============================] - 2s 11us/step - loss: 4.1158\n",
      "Epoch 522/600\n",
      "222337/222337 [==============================] - 2s 11us/step - loss: 4.1046\n",
      "Epoch 523/600\n",
      "222337/222337 [==============================] - 2s 11us/step - loss: 4.0949\n",
      "Epoch 524/600\n",
      "222337/222337 [==============================] - 2s 11us/step - loss: 4.1194\n",
      "Epoch 525/600\n",
      "222337/222337 [==============================] - 2s 11us/step - loss: 4.1026\n",
      "Epoch 526/600\n",
      "222337/222337 [==============================] - 2s 11us/step - loss: 4.0883\n",
      "Epoch 527/600\n",
      "222337/222337 [==============================] - 2s 11us/step - loss: 4.0854\n",
      "Epoch 528/600\n",
      "222337/222337 [==============================] - 2s 11us/step - loss: 4.0809\n",
      "Epoch 529/600\n",
      "222337/222337 [==============================] - 2s 11us/step - loss: 4.0860\n",
      "Epoch 530/600\n",
      "222337/222337 [==============================] - 2s 11us/step - loss: 4.0638\n",
      "Epoch 531/600\n",
      "222337/222337 [==============================] - 3s 11us/step - loss: 4.0697\n",
      "Epoch 532/600\n",
      "222337/222337 [==============================] - 2s 11us/step - loss: 4.0805\n",
      "Epoch 533/600\n",
      "222337/222337 [==============================] - 2s 11us/step - loss: 4.0643\n",
      "Epoch 534/600\n",
      "222337/222337 [==============================] - 2s 11us/step - loss: 4.0752\n",
      "Epoch 535/600\n",
      "222337/222337 [==============================] - 2s 11us/step - loss: 4.0681\n",
      "Epoch 536/600\n",
      "222337/222337 [==============================] - 2s 11us/step - loss: 4.0648\n",
      "Epoch 537/600\n",
      "222337/222337 [==============================] - 2s 11us/step - loss: 4.0429\n",
      "Epoch 538/600\n",
      "222337/222337 [==============================] - 3s 11us/step - loss: 4.0620\n",
      "Epoch 539/600\n",
      "222337/222337 [==============================] - 3s 11us/step - loss: 4.0538\n",
      "Epoch 540/600\n"
     ]
    },
    {
     "name": "stdout",
     "output_type": "stream",
     "text": [
      "222337/222337 [==============================] - 2s 11us/step - loss: 4.0465\n",
      "Epoch 541/600\n",
      "222337/222337 [==============================] - 3s 11us/step - loss: 4.0577\n",
      "Epoch 542/600\n",
      "222337/222337 [==============================] - 2s 11us/step - loss: 4.0392\n",
      "Epoch 543/600\n",
      "222337/222337 [==============================] - 2s 11us/step - loss: 4.0271\n",
      "Epoch 544/600\n",
      "222337/222337 [==============================] - 2s 11us/step - loss: 4.0383\n",
      "Epoch 545/600\n",
      "222337/222337 [==============================] - 2s 11us/step - loss: 4.0115\n",
      "Epoch 546/600\n",
      "222337/222337 [==============================] - 2s 11us/step - loss: 4.0259\n",
      "Epoch 547/600\n",
      "222337/222337 [==============================] - 2s 11us/step - loss: 4.0134\n",
      "Epoch 548/600\n",
      "222337/222337 [==============================] - 2s 11us/step - loss: 4.0018\n",
      "Epoch 549/600\n",
      "222337/222337 [==============================] - 2s 11us/step - loss: 4.0210\n",
      "Epoch 550/600\n",
      "222337/222337 [==============================] - 3s 11us/step - loss: 4.0146\n",
      "Epoch 551/600\n",
      "222337/222337 [==============================] - 2s 11us/step - loss: 3.9665\n",
      "Epoch 552/600\n",
      "222337/222337 [==============================] - 2s 11us/step - loss: 4.0100\n",
      "Epoch 553/600\n",
      "222337/222337 [==============================] - 2s 11us/step - loss: 3.9871\n",
      "Epoch 554/600\n",
      "222337/222337 [==============================] - 2s 11us/step - loss: 3.9661\n",
      "Epoch 555/600\n",
      "222337/222337 [==============================] - 2s 11us/step - loss: 3.9848\n",
      "Epoch 556/600\n",
      "222337/222337 [==============================] - 2s 11us/step - loss: 3.9895\n",
      "Epoch 557/600\n",
      "222337/222337 [==============================] - 3s 11us/step - loss: 3.9884\n",
      "Epoch 558/600\n",
      "222337/222337 [==============================] - 2s 11us/step - loss: 3.9760\n",
      "Epoch 559/600\n",
      "222337/222337 [==============================] - 2s 11us/step - loss: 3.9778\n",
      "Epoch 560/600\n",
      "222337/222337 [==============================] - 2s 11us/step - loss: 3.9625\n",
      "Epoch 561/600\n",
      "222337/222337 [==============================] - 2s 11us/step - loss: 3.9837\n",
      "Epoch 562/600\n",
      "222337/222337 [==============================] - 2s 11us/step - loss: 3.9512\n",
      "Epoch 563/600\n",
      "222337/222337 [==============================] - 2s 11us/step - loss: 3.9425\n",
      "Epoch 564/600\n",
      "222337/222337 [==============================] - 2s 11us/step - loss: 3.9801\n",
      "Epoch 565/600\n",
      "222337/222337 [==============================] - 2s 11us/step - loss: 3.9202\n",
      "Epoch 566/600\n",
      "222337/222337 [==============================] - 2s 11us/step - loss: 3.9400\n",
      "Epoch 567/600\n",
      "222337/222337 [==============================] - 2s 11us/step - loss: 3.9609\n",
      "Epoch 568/600\n",
      "222337/222337 [==============================] - 2s 11us/step - loss: 3.9365\n",
      "Epoch 569/600\n",
      "222337/222337 [==============================] - 2s 11us/step - loss: 3.9405\n",
      "Epoch 570/600\n",
      "222337/222337 [==============================] - 2s 11us/step - loss: 3.9154\n",
      "Epoch 571/600\n",
      "222337/222337 [==============================] - 2s 11us/step - loss: 3.9380\n",
      "Epoch 572/600\n",
      "222337/222337 [==============================] - 2s 11us/step - loss: 3.9351\n",
      "Epoch 573/600\n",
      "222337/222337 [==============================] - 2s 11us/step - loss: 3.9263\n",
      "Epoch 574/600\n",
      "222337/222337 [==============================] - 2s 11us/step - loss: 3.9073\n",
      "Epoch 575/600\n",
      "222337/222337 [==============================] - 2s 11us/step - loss: 3.9353\n",
      "Epoch 576/600\n",
      "222337/222337 [==============================] - 2s 11us/step - loss: 3.8918\n",
      "Epoch 577/600\n",
      "222337/222337 [==============================] - 2s 11us/step - loss: 3.9293\n",
      "Epoch 578/600\n",
      "222337/222337 [==============================] - 2s 11us/step - loss: 3.9046\n",
      "Epoch 579/600\n",
      "222337/222337 [==============================] - 2s 11us/step - loss: 3.9001\n",
      "Epoch 580/600\n",
      "222337/222337 [==============================] - 2s 11us/step - loss: 3.9133\n",
      "Epoch 581/600\n",
      "222337/222337 [==============================] - 2s 11us/step - loss: 3.9044\n",
      "Epoch 582/600\n",
      "222337/222337 [==============================] - 2s 11us/step - loss: 3.8666\n",
      "Epoch 583/600\n",
      "222337/222337 [==============================] - 2s 11us/step - loss: 3.9072\n",
      "Epoch 584/600\n",
      "222337/222337 [==============================] - 2s 11us/step - loss: 3.9119\n",
      "Epoch 585/600\n",
      "222337/222337 [==============================] - 2s 11us/step - loss: 3.9066\n",
      "Epoch 586/600\n",
      "222337/222337 [==============================] - 2s 11us/step - loss: 3.8944\n",
      "Epoch 587/600\n",
      "222337/222337 [==============================] - 2s 11us/step - loss: 3.8931\n",
      "Epoch 588/600\n",
      "222337/222337 [==============================] - 2s 11us/step - loss: 3.9055\n",
      "Epoch 589/600\n",
      "222337/222337 [==============================] - 2s 11us/step - loss: 3.9134\n",
      "Epoch 590/600\n",
      "222337/222337 [==============================] - 2s 11us/step - loss: 3.8767\n",
      "Epoch 591/600\n",
      "222337/222337 [==============================] - 2s 11us/step - loss: 3.8916\n",
      "Epoch 592/600\n",
      "222337/222337 [==============================] - 2s 11us/step - loss: 3.8967\n",
      "Epoch 593/600\n",
      "222337/222337 [==============================] - 2s 11us/step - loss: 3.8922\n",
      "Epoch 594/600\n",
      "222337/222337 [==============================] - 2s 11us/step - loss: 3.8907\n",
      "Epoch 595/600\n",
      "222337/222337 [==============================] - 2s 11us/step - loss: 3.8746\n",
      "Epoch 596/600\n",
      "222337/222337 [==============================] - 2s 11us/step - loss: 3.8663\n",
      "Epoch 597/600\n",
      "222337/222337 [==============================] - 2s 11us/step - loss: 3.8864\n",
      "Epoch 598/600\n",
      "222337/222337 [==============================] - 2s 11us/step - loss: 3.8730\n",
      "Epoch 599/600\n",
      "222337/222337 [==============================] - 2s 11us/step - loss: 3.8852\n",
      "Epoch 600/600\n",
      "222337/222337 [==============================] - 2s 11us/step - loss: 3.8665\n"
     ]
    },
    {
     "data": {
      "text/plain": [
       "<keras.callbacks.callbacks.History at 0x2282fac19b0>"
      ]
     },
     "execution_count": 84,
     "metadata": {},
     "output_type": "execute_result"
    }
   ],
   "source": [
    "classifier.fit(xtrain,ytrain, batch_size=500, nb_epoch=600)"
   ]
  },
  {
   "cell_type": "code",
   "execution_count": 88,
   "metadata": {},
   "outputs": [],
   "source": [
    "pred_deep=classifier.predict(xtest)"
   ]
  },
  {
   "cell_type": "code",
   "execution_count": 94,
   "metadata": {},
   "outputs": [
    {
     "name": "stdout",
     "output_type": "stream",
     "text": [
      "mse is 4.906330040705513\n",
      "rmse is 2.2150237110932953\n"
     ]
    }
   ],
   "source": [
    "mse_deep=mean_squared_error(pred_deep,ytest)\n",
    "rmse_deep=np.sqrt(mse_deep)\n",
    "print('mse is',mse_deep)\n",
    "print('rmse is',np.sqrt(mse_deep))"
   ]
  },
  {
   "cell_type": "code",
   "execution_count": 86,
   "metadata": {},
   "outputs": [
    {
     "data": {
      "text/plain": [
       "0.9984290447575537"
      ]
     },
     "execution_count": 86,
     "metadata": {},
     "output_type": "execute_result"
    }
   ],
   "source": [
    "r2_score((classifier.predict(xtest)),ytest)"
   ]
  },
  {
   "cell_type": "markdown",
   "metadata": {},
   "source": [
    "# Graphically comparing the results"
   ]
  },
  {
   "cell_type": "code",
   "execution_count": 89,
   "metadata": {},
   "outputs": [
    {
     "data": {
      "text/plain": [
       "[<matplotlib.lines.Line2D at 0x2282ef1b358>]"
      ]
     },
     "execution_count": 89,
     "metadata": {},
     "output_type": "execute_result"
    },
    {
     "data": {
      "image/png": "[encoded data removed]",
      "text/plain": [
       "<Figure size 432x288 with 1 Axes>"
      ]
     },
     "metadata": {
      "needs_background": "light"
     },
     "output_type": "display_data"
    }
   ],
   "source": [
    "plt.plot(pred_rfr,ytest)"
   ]
  },
  {
   "cell_type": "code",
   "execution_count": 90,
   "metadata": {},
   "outputs": [
    {
     "data": {
      "text/plain": [
       "[<matplotlib.lines.Line2D at 0x22834105ba8>]"
      ]
     },
     "execution_count": 90,
     "metadata": {},
     "output_type": "execute_result"
    },
    {
     "data": {
      "image/png": "[encoded data removed]",
      "text/plain": [
       "<Figure size 432x288 with 1 Axes>"
      ]
     },
     "metadata": {
      "needs_background": "light"
     },
     "output_type": "display_data"
    }
   ],
   "source": [
    "plt.plot(pred_lr,ytest)"
   ]
  },
  {
   "cell_type": "code",
   "execution_count": 91,
   "metadata": {},
   "outputs": [
    {
     "data": {
      "text/plain": [
       "[<matplotlib.lines.Line2D at 0x2282f3a4940>]"
      ]
     },
     "execution_count": 91,
     "metadata": {},
     "output_type": "execute_result"
    },
    {
     "data": {
      "image/png": "[encoded data removed]",
      "text/plain": [
       "<Figure size 432x288 with 1 Axes>"
      ]
     },
     "metadata": {
      "needs_background": "light"
     },
     "output_type": "display_data"
    }
   ],
   "source": [
    "plt.plot(pred_deep,ytest)"
   ]
  },
  {
   "cell_type": "code",
   "execution_count": 95,
   "metadata": {},
   "outputs": [
    {
     "data": {
      "text/plain": [
       "[<matplotlib.lines.Line2D at 0x2282f3f6f60>]"
      ]
     },
     "execution_count": 95,
     "metadata": {},
     "output_type": "execute_result"
    },
    {
     "data": {
      "image/png": "[encoded data removed]",
      "text/plain": [
       "<Figure size 432x288 with 1 Axes>"
      ]
     },
     "metadata": {
      "needs_background": "light"
     },
     "output_type": "display_data"
    }
   ],
   "source": [
    "plt.plot(pred_dtr,ytest)"
   ]
  },
  {
   "cell_type": "markdown",
   "metadata": {},
   "source": [
    "# from the graphs above which are showing the difference between the actual values and the predicted values we can see that deep neural network is working better by a slight margin but at the cost of higher computation cost and even this can be improved by having a more deeper network and running more epochs but that would further increase the cost of computation. Whereas on the other hand random forest and linrea regression have shown very good results which are not very far behind the deep learning results and also training on machine learning algorithms was much faster. "
   ]
  },
  {
   "cell_type": "markdown",
   "metadata": {},
   "source": [
    "# final model for predicting the unseen data will be based on the deep learning model. "
   ]
  },
  {
   "cell_type": "markdown",
   "metadata": {},
   "source": [
    "# saving the best working model using joblib. Model will be uploaded on the github repository. "
   ]
  },
  {
   "cell_type": "code",
   "execution_count": 112,
   "metadata": {},
   "outputs": [],
   "source": [
    "from sklearn.externals import joblib"
   ]
  },
  {
   "cell_type": "code",
   "execution_count": 114,
   "metadata": {},
   "outputs": [
    {
     "data": {
      "text/plain": [
       "['challenge_problem_1_model.pkl']"
      ]
     },
     "execution_count": 114,
     "metadata": {},
     "output_type": "execute_result"
    }
   ],
   "source": [
    "joblib.dump(classifier,'challenge_problem_1_model.pkl')"
   ]
  },
  {
   "cell_type": "code",
   "execution_count": 115,
   "metadata": {},
   "outputs": [],
   "source": [
    "model=joblib.load('challenge_problem_1_model.pkl')"
   ]
  },
  {
   "cell_type": "code",
   "execution_count": 116,
   "metadata": {},
   "outputs": [
    {
     "data": {
      "text/plain": [
       "array([[179.12253 ],\n",
       "       [263.29837 ],\n",
       "       [168.31512 ],\n",
       "       ...,\n",
       "       [126.98317 ],\n",
       "       [138.08    ],\n",
       "       [ 95.266106]], dtype=float32)"
      ]
     },
     "execution_count": 116,
     "metadata": {},
     "output_type": "execute_result"
    }
   ],
   "source": [
    "model.predict(xtest)"
   ]
  },
  {
   "cell_type": "code",
   "execution_count": null,
   "metadata": {},
   "outputs": [],
   "source": []
  }
 ],
 "metadata": {
  "kernelspec": {
   "display_name": "Python 3",
   "language": "python",
   "name": "python3"
  },
  "language_info": {
   "codemirror_mode": {
    "name": "ipython",
    "version": 3
   },
   "file_extension": ".py",
   "mimetype": "text/x-python",
   "name": "python",
   "nbconvert_exporter": "python",
   "pygments_lexer": "ipython3",
   "version": "3.6.9"
  }
 },
 "nbformat": 4,
 "nbformat_minor": 2
}
